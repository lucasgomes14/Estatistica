{
 "cells": [
  {
   "cell_type": "markdown",
   "id": "a312499a",
   "metadata": {},
   "source": [
    "<div class=\"alert alert-block alert-info\">\n",
    "<center>ESTATÍSTICA APLICADA</center>\n",
    "<center>Projeto I</center>\n",
    "<center>ALUNO: Lucas Matheus Gomes de Lima.</center>\n",
    "</div>"
   ]
  },
  {
   "cell_type": "markdown",
   "id": "7dbbc5de",
   "metadata": {},
   "source": [
    "<div class=\"alert alert-block alert-info\">\n",
    "Importei o pandas e o numpy\n",
    "</div>"
   ]
  },
  {
   "cell_type": "code",
   "execution_count": 1,
   "id": "6aa2b2ed",
   "metadata": {},
   "outputs": [],
   "source": [
    "import pandas as pd\n",
    "import numpy as np"
   ]
  },
  {
   "cell_type": "markdown",
   "id": "eebd130a",
   "metadata": {},
   "source": [
    "<div class=\"alert alert-block alert-info\">\n",
    "Carreguei os dados da PRF dos anos 2018 à 2020.\n",
    "</div>"
   ]
  },
  {
   "cell_type": "code",
   "execution_count": 10,
   "id": "40b38132",
   "metadata": {},
   "outputs": [],
   "source": [
    "acidente_2018 = pd.read_csv('/home/lucas/Downloads/aulas/datatran2018.csv', encoding = 'latin1',sep = ';')\n",
    "acidente_2019 = pd.read_csv(\"https://github.com/lucasgomes14/Estatistica/blob/e6ef875dc75ef30256a453af536ba9be291a8dfc/Projetos/Projeto1/datatran2019.csv\", encoding = 'latin1',sep = ';')\n",
    "acidente_2020 = pd.read_csv(\"https://github.com/lucasgomes14/Estatistica/blob/main/Projetos/Projeto1/datatran2020.csv\", encoding = 'latin1',sep = ';')"
   ]
  },
  {
   "cell_type": "markdown",
   "id": "8bfb1d91",
   "metadata": {},
   "source": [
    "<div class=\"alert alert-block alert-info\">\n",
    "Quantidades de acidentes em 2018, 2019, 2020.\n",
    "</div>"
   ]
  },
  {
   "cell_type": "code",
   "execution_count": 3,
   "id": "965cbbae",
   "metadata": {},
   "outputs": [
    {
     "data": {
      "text/plain": [
       "976"
      ]
     },
     "execution_count": 3,
     "metadata": {},
     "output_type": "execute_result"
    }
   ],
   "source": [
    "acidente_2018.shape[0]"
   ]
  },
  {
   "cell_type": "markdown",
   "id": "6e5c6f04",
   "metadata": {},
   "source": [
    "<span style=\"color:green\">**Em 2018 houve 69295 acidentes.**</span>\n"
   ]
  },
  {
   "cell_type": "code",
   "execution_count": 4,
   "id": "f4b3c437",
   "metadata": {},
   "outputs": [
    {
     "data": {
      "text/plain": [
       "919"
      ]
     },
     "execution_count": 4,
     "metadata": {},
     "output_type": "execute_result"
    }
   ],
   "source": [
    "acidente_2019.shape[0]"
   ]
  },
  {
   "cell_type": "markdown",
   "id": "53e9ebf0",
   "metadata": {},
   "source": [
    "<span style=\"color:green\">**Em 2019 houve 67446 acidentes.**</span>"
   ]
  },
  {
   "cell_type": "code",
   "execution_count": 5,
   "id": "8fb43d50",
   "metadata": {},
   "outputs": [
    {
     "data": {
      "text/plain": [
       "919"
      ]
     },
     "execution_count": 5,
     "metadata": {},
     "output_type": "execute_result"
    }
   ],
   "source": [
    "acidente_2020.shape[0]"
   ]
  },
  {
   "cell_type": "markdown",
   "id": "a12a5ba2",
   "metadata": {},
   "source": [
    "<span style=\"color:green\">**Em 2020 houve 63548 acidentes.**</span>"
   ]
  },
  {
   "cell_type": "markdown",
   "id": "0fa8b645",
   "metadata": {},
   "source": [
    "<div class=\"alert alert-block alert-info\">\n",
    "Quantidades de variáveis em 2018, 2019, 2020.\n",
    "</div>"
   ]
  },
  {
   "cell_type": "code",
   "execution_count": 6,
   "id": "3f1d4e02",
   "metadata": {},
   "outputs": [
    {
     "data": {
      "text/plain": [
       "1"
      ]
     },
     "execution_count": 6,
     "metadata": {},
     "output_type": "execute_result"
    }
   ],
   "source": [
    "acidente_2018.shape[1]"
   ]
  },
  {
   "cell_type": "markdown",
   "id": "cf77348d",
   "metadata": {},
   "source": [
    "<span style=\"color:green\">**Em 2018 tem 30 variáveis.**</span>"
   ]
  },
  {
   "cell_type": "code",
   "execution_count": 7,
   "id": "c48c8f0e",
   "metadata": {},
   "outputs": [
    {
     "data": {
      "text/plain": [
       "1"
      ]
     },
     "execution_count": 7,
     "metadata": {},
     "output_type": "execute_result"
    }
   ],
   "source": [
    "acidente_2019.shape[1]"
   ]
  },
  {
   "cell_type": "markdown",
   "id": "cb16b59f",
   "metadata": {},
   "source": [
    "<span style=\"color:green\">**Em 2019 tem 30 variáveis.**</span>"
   ]
  },
  {
   "cell_type": "code",
   "execution_count": 8,
   "id": "babb7b99",
   "metadata": {},
   "outputs": [
    {
     "data": {
      "text/plain": [
       "1"
      ]
     },
     "execution_count": 8,
     "metadata": {},
     "output_type": "execute_result"
    }
   ],
   "source": [
    "acidente_2020.shape[1]"
   ]
  },
  {
   "cell_type": "markdown",
   "id": "b5310cca",
   "metadata": {},
   "source": [
    "<span style=\"color:green\">**Em 2020 tem 30 variáveis.**</span>"
   ]
  },
  {
   "cell_type": "markdown",
   "id": "edabf72b",
   "metadata": {},
   "source": [
    "<div class=\"alert alert-block alert-info\">\n",
    "Ranking das 5 maiores cidades onde ocorreram mais acidentes nos 3 anos.\n",
    "</div>"
   ]
  },
  {
   "cell_type": "code",
   "execution_count": 9,
   "id": "ab4e7f93",
   "metadata": {},
   "outputs": [
    {
     "ename": "KeyError",
     "evalue": "'municipio'",
     "output_type": "error",
     "traceback": [
      "\u001b[0;31m---------------------------------------------------------------------------\u001b[0m",
      "\u001b[0;31mKeyError\u001b[0m                                  Traceback (most recent call last)",
      "\u001b[0;32m/tmp/ipykernel_9907/4292989345.py\u001b[0m in \u001b[0;36m<module>\u001b[0;34m\u001b[0m\n\u001b[1;32m      1\u001b[0m \u001b[0mos_tres_anos\u001b[0m \u001b[0;34m=\u001b[0m \u001b[0mpd\u001b[0m\u001b[0;34m.\u001b[0m\u001b[0mconcat\u001b[0m\u001b[0;34m(\u001b[0m\u001b[0;34m[\u001b[0m\u001b[0macidente_2018\u001b[0m\u001b[0;34m,\u001b[0m \u001b[0macidente_2019\u001b[0m\u001b[0;34m,\u001b[0m \u001b[0macidente_2020\u001b[0m\u001b[0;34m]\u001b[0m\u001b[0;34m)\u001b[0m\u001b[0;34m\u001b[0m\u001b[0;34m\u001b[0m\u001b[0m\n\u001b[0;32m----> 2\u001b[0;31m \u001b[0mmunicipio\u001b[0m \u001b[0;34m=\u001b[0m \u001b[0mos_tres_anos\u001b[0m\u001b[0;34m.\u001b[0m\u001b[0mgroupby\u001b[0m\u001b[0;34m(\u001b[0m\u001b[0;34m\"municipio\"\u001b[0m\u001b[0;34m)\u001b[0m\u001b[0;34m\u001b[0m\u001b[0;34m\u001b[0m\u001b[0m\n\u001b[0m\u001b[1;32m      3\u001b[0m \u001b[0mranking_municipio\u001b[0m \u001b[0;34m=\u001b[0m \u001b[0mmunicipio\u001b[0m\u001b[0;34m.\u001b[0m\u001b[0msize\u001b[0m\u001b[0;34m(\u001b[0m\u001b[0;34m)\u001b[0m\u001b[0;34m.\u001b[0m\u001b[0mreset_index\u001b[0m\u001b[0;34m(\u001b[0m\u001b[0;34m)\u001b[0m\u001b[0;34m.\u001b[0m\u001b[0mrename\u001b[0m\u001b[0;34m(\u001b[0m\u001b[0mcolumns\u001b[0m\u001b[0;34m=\u001b[0m\u001b[0;34m{\u001b[0m\u001b[0;36m0\u001b[0m \u001b[0;34m:\u001b[0m \u001b[0;34m\"Número de acidentes\"\u001b[0m\u001b[0;34m}\u001b[0m\u001b[0;34m)\u001b[0m\u001b[0;34m\u001b[0m\u001b[0;34m\u001b[0m\u001b[0m\n\u001b[1;32m      4\u001b[0m \u001b[0mranking_municipio\u001b[0m\u001b[0;34m.\u001b[0m\u001b[0msort_values\u001b[0m\u001b[0;34m(\u001b[0m\u001b[0;34m\"Número de acidentes\"\u001b[0m\u001b[0;34m,\u001b[0m \u001b[0mascending\u001b[0m\u001b[0;34m=\u001b[0m\u001b[0;32mFalse\u001b[0m\u001b[0;34m,\u001b[0m \u001b[0mignore_index\u001b[0m\u001b[0;34m=\u001b[0m \u001b[0;32mTrue\u001b[0m\u001b[0;34m)\u001b[0m\u001b[0;34m.\u001b[0m\u001b[0mhead\u001b[0m\u001b[0;34m(\u001b[0m\u001b[0;34m)\u001b[0m\u001b[0;34m\u001b[0m\u001b[0;34m\u001b[0m\u001b[0m\n",
      "\u001b[0;32m~/anaconda3/lib/python3.9/site-packages/pandas/core/frame.py\u001b[0m in \u001b[0;36mgroupby\u001b[0;34m(self, by, axis, level, as_index, sort, group_keys, squeeze, observed, dropna)\u001b[0m\n\u001b[1;32m   7629\u001b[0m         \u001b[0;31m# error: Argument \"squeeze\" to \"DataFrameGroupBy\" has incompatible type\u001b[0m\u001b[0;34m\u001b[0m\u001b[0;34m\u001b[0m\u001b[0m\n\u001b[1;32m   7630\u001b[0m         \u001b[0;31m# \"Union[bool, NoDefault]\"; expected \"bool\"\u001b[0m\u001b[0;34m\u001b[0m\u001b[0;34m\u001b[0m\u001b[0m\n\u001b[0;32m-> 7631\u001b[0;31m         return DataFrameGroupBy(\n\u001b[0m\u001b[1;32m   7632\u001b[0m             \u001b[0mobj\u001b[0m\u001b[0;34m=\u001b[0m\u001b[0mself\u001b[0m\u001b[0;34m,\u001b[0m\u001b[0;34m\u001b[0m\u001b[0;34m\u001b[0m\u001b[0m\n\u001b[1;32m   7633\u001b[0m             \u001b[0mkeys\u001b[0m\u001b[0;34m=\u001b[0m\u001b[0mby\u001b[0m\u001b[0;34m,\u001b[0m\u001b[0;34m\u001b[0m\u001b[0;34m\u001b[0m\u001b[0m\n",
      "\u001b[0;32m~/anaconda3/lib/python3.9/site-packages/pandas/core/groupby/groupby.py\u001b[0m in \u001b[0;36m__init__\u001b[0;34m(self, obj, keys, axis, level, grouper, exclusions, selection, as_index, sort, group_keys, squeeze, observed, mutated, dropna)\u001b[0m\n\u001b[1;32m    887\u001b[0m             \u001b[0;32mfrom\u001b[0m \u001b[0mpandas\u001b[0m\u001b[0;34m.\u001b[0m\u001b[0mcore\u001b[0m\u001b[0;34m.\u001b[0m\u001b[0mgroupby\u001b[0m\u001b[0;34m.\u001b[0m\u001b[0mgrouper\u001b[0m \u001b[0;32mimport\u001b[0m \u001b[0mget_grouper\u001b[0m\u001b[0;34m\u001b[0m\u001b[0;34m\u001b[0m\u001b[0m\n\u001b[1;32m    888\u001b[0m \u001b[0;34m\u001b[0m\u001b[0m\n\u001b[0;32m--> 889\u001b[0;31m             grouper, exclusions, obj = get_grouper(\n\u001b[0m\u001b[1;32m    890\u001b[0m                 \u001b[0mobj\u001b[0m\u001b[0;34m,\u001b[0m\u001b[0;34m\u001b[0m\u001b[0;34m\u001b[0m\u001b[0m\n\u001b[1;32m    891\u001b[0m                 \u001b[0mkeys\u001b[0m\u001b[0;34m,\u001b[0m\u001b[0;34m\u001b[0m\u001b[0;34m\u001b[0m\u001b[0m\n",
      "\u001b[0;32m~/anaconda3/lib/python3.9/site-packages/pandas/core/groupby/grouper.py\u001b[0m in \u001b[0;36mget_grouper\u001b[0;34m(obj, key, axis, level, sort, observed, mutated, validate, dropna)\u001b[0m\n\u001b[1;32m    860\u001b[0m                 \u001b[0min_axis\u001b[0m\u001b[0;34m,\u001b[0m \u001b[0mlevel\u001b[0m\u001b[0;34m,\u001b[0m \u001b[0mgpr\u001b[0m \u001b[0;34m=\u001b[0m \u001b[0;32mFalse\u001b[0m\u001b[0;34m,\u001b[0m \u001b[0mgpr\u001b[0m\u001b[0;34m,\u001b[0m \u001b[0;32mNone\u001b[0m\u001b[0;34m\u001b[0m\u001b[0;34m\u001b[0m\u001b[0m\n\u001b[1;32m    861\u001b[0m             \u001b[0;32melse\u001b[0m\u001b[0;34m:\u001b[0m\u001b[0;34m\u001b[0m\u001b[0;34m\u001b[0m\u001b[0m\n\u001b[0;32m--> 862\u001b[0;31m                 \u001b[0;32mraise\u001b[0m \u001b[0mKeyError\u001b[0m\u001b[0;34m(\u001b[0m\u001b[0mgpr\u001b[0m\u001b[0;34m)\u001b[0m\u001b[0;34m\u001b[0m\u001b[0;34m\u001b[0m\u001b[0m\n\u001b[0m\u001b[1;32m    863\u001b[0m         \u001b[0;32melif\u001b[0m \u001b[0misinstance\u001b[0m\u001b[0;34m(\u001b[0m\u001b[0mgpr\u001b[0m\u001b[0;34m,\u001b[0m \u001b[0mGrouper\u001b[0m\u001b[0;34m)\u001b[0m \u001b[0;32mand\u001b[0m \u001b[0mgpr\u001b[0m\u001b[0;34m.\u001b[0m\u001b[0mkey\u001b[0m \u001b[0;32mis\u001b[0m \u001b[0;32mnot\u001b[0m \u001b[0;32mNone\u001b[0m\u001b[0;34m:\u001b[0m\u001b[0;34m\u001b[0m\u001b[0;34m\u001b[0m\u001b[0m\n\u001b[1;32m    864\u001b[0m             \u001b[0;31m# Add key to exclusions\u001b[0m\u001b[0;34m\u001b[0m\u001b[0;34m\u001b[0m\u001b[0m\n",
      "\u001b[0;31mKeyError\u001b[0m: 'municipio'"
     ]
    }
   ],
   "source": [
    "os_tres_anos = pd.concat([acidente_2018, acidente_2019, acidente_2020])\n",
    "municipio = os_tres_anos.groupby(\"municipio\")\n",
    "ranking_municipio = municipio.size().reset_index().rename(columns={0 : \"Número de acidentes\"})\n",
    "ranking_municipio.sort_values(\"Número de acidentes\", ascending=False, ignore_index= True).head()"
   ]
  },
  {
   "cell_type": "markdown",
   "id": "9a498eef",
   "metadata": {},
   "source": [
    "<span style=\"color:green\">**Curitiba lidera o ranking, em seguida foi Brasilia, São José, Guarulhos e Palhoça**</span>"
   ]
  },
  {
   "cell_type": "markdown",
   "id": "fcfacd71",
   "metadata": {},
   "source": [
    "<div class=\"alert alert-block alert-info\">\n",
    "Quantidade de feridos graves na Paraíba em 2019.\n",
    "</div>"
   ]
  },
  {
   "cell_type": "code",
   "execution_count": null,
   "id": "25f254f4",
   "metadata": {},
   "outputs": [],
   "source": [
    "feridos_graves = acidente_2019[\"feridos_graves\"] > 0\n",
    "feridos = acidente_2019[feridos_graves]\n",
    "PB = feridos[\"uf\"] == \"PB\"\n",
    "feridos_graves_na_PB = feridos[PB]\n",
    "feridos_graves_na_PB.shape[0]"
   ]
  },
  {
   "cell_type": "markdown",
   "id": "de56b4ea",
   "metadata": {},
   "source": [
    "<span style=\"color:green\">**Em 2019 houve 414 feridos graves em acidentes na Paraíba.**</span>"
   ]
  },
  {
   "cell_type": "markdown",
   "id": "cd0b67fa",
   "metadata": {},
   "source": [
    "<div class=\"alert alert-block alert-info\">\n",
    "Ranking dos 3 anos de acidentes por estado.\n",
    "</div>"
   ]
  },
  {
   "cell_type": "code",
   "execution_count": null,
   "id": "35afbc13",
   "metadata": {},
   "outputs": [],
   "source": [
    "juncao = os_tres_anos.groupby(\"uf\")\n",
    "ranking = juncao.size().reset_index().rename(columns = {0 : \"N° de acidentes\"})\n",
    "ranking.sort_values(\"N° de acidentes\", ascending = False, ignore_index = True)"
   ]
  },
  {
   "cell_type": "markdown",
   "id": "ba22c610",
   "metadata": {},
   "source": [
    "<span style=\"color:green\">**Minas Gerais liderou nos 3 anos e Amazonas foi o menor nos 3 anos.**</span>"
   ]
  },
  {
   "cell_type": "code",
   "execution_count": null,
   "id": "02a2418f",
   "metadata": {},
   "outputs": [],
   "source": [
    "ranking.to_csv(\"Ranking_de_estados.csv\")"
   ]
  },
  {
   "cell_type": "markdown",
   "id": "1043214f",
   "metadata": {},
   "source": [
    "<span style=\"color:green\">**Salvo como csv o dataframe do ranking.**</span>"
   ]
  },
  {
   "cell_type": "markdown",
   "id": "c925e92f",
   "metadata": {},
   "source": [
    "<div class=\"alert alert-block alert-info\">\n",
    "DataFrame dos acidentes organizados por semana.\n",
    "</div>"
   ]
  },
  {
   "cell_type": "code",
   "execution_count": null,
   "id": "aad0f639",
   "metadata": {},
   "outputs": [],
   "source": [
    "acidentes_por_semana = pd.concat([os_tres_anos[os_tres_anos['dia_semana'] == 'domingo'],os_tres_anos[os_tres_anos['dia_semana'] == 'segunda-feira'], \n",
    "                       os_tres_anos[os_tres_anos['dia_semana'] == 'terça-feira'], os_tres_anos[os_tres_anos['dia_semana'] == 'quarta-feira'], \n",
    "                       os_tres_anos[os_tres_anos['dia_semana'] == 'quinta-feira'], os_tres_anos[os_tres_anos['dia_semana'] == 'sexta-feira'], \n",
    "                       os_tres_anos[os_tres_anos['dia_semana'] == 'sábado']], keys = ['Domingo','Segunda-feira','Terça-feira',\n",
    "                                                                         'Quarta-feira','Quinta-feira','Sexta-feira',\n",
    "                                                                         'Sábado'])\n",
    "acidentes_por_semana.to_csv(\"acidentes_por_semana.csv\")"
   ]
  },
  {
   "cell_type": "markdown",
   "id": "b5bf29b5",
   "metadata": {},
   "source": [
    "<span style=\"color:green\">**Salvo como csv o dataframe de acidentes por semana.**</span>"
   ]
  },
  {
   "cell_type": "markdown",
   "id": "e406b7d4",
   "metadata": {},
   "source": [
    "<div class=\"alert alert-block alert-info\">\n",
    "DataFrame dos acidentes organizados por ranking das causas de acidentes.\n",
    "</div>"
   ]
  },
  {
   "cell_type": "code",
   "execution_count": null,
   "id": "b9ab301d",
   "metadata": {},
   "outputs": [],
   "source": [
    "causas_de_acidentes = os_tres_anos.groupby(\"causa_acidente\")\n",
    "ranking_causa = causas_de_acidentes.size().reset_index().rename(columns = {0 : \"N° de causas\"})\n",
    "ranking_causa.sort_values(\"N° de causas\", ascending = False, ignore_index = True)"
   ]
  },
  {
   "cell_type": "markdown",
   "id": "47b40964",
   "metadata": {},
   "source": [
    "<span style=\"color:green\">**A maior causa dos acidentes é desparado Falta de Atenção à Condução\te as mais raras são: Acumulo de areia ou detritos sobre o pavimento, Acostamento em desnível, Acumulo de óleo sobre o pavimento, Condutor usando celular, Pista esburacada, Ausência de sinalização, Pedestre cruzava a pista fora da faixa, Ingestão de álcool ou de substâncias psicoativas, Curva acentuada, Fumaça, Frear bruscamente, Estacionar ou parar em local proibido.**</span>"
   ]
  },
  {
   "cell_type": "markdown",
   "id": "bad3a742",
   "metadata": {},
   "source": [
    "<div class=\"alert alert-block alert-info\">\n",
    "DataFrame da proporção de ilesos mês a mês anos 2018, 2019, 2020.\n",
    "</div>"
   ]
  },
  {
   "cell_type": "markdown",
   "id": "920ff38e",
   "metadata": {},
   "source": [
    "<div class=\"alert alert-block alert-info\">\n",
    "2018\n",
    "</div>"
   ]
  },
  {
   "cell_type": "code",
   "execution_count": null,
   "id": "d9066b98",
   "metadata": {},
   "outputs": [],
   "source": [
    "os_tres_anos[\"data_inversa\"] = pd.to_datetime(os_tres_anos[\"data_inversa\"])"
   ]
  },
  {
   "cell_type": "code",
   "execution_count": null,
   "id": "dd5a19e0",
   "metadata": {},
   "outputs": [],
   "source": [
    "agrupamento_janeiro2018 = os_tres_anos.loc[(os_tres_anos[\"data_inversa\"].dt.year == 2018) & (os_tres_anos[\"data_inversa\"].dt.month == 1)]\n",
    "proporção_ilesas_janeiro2018 = agrupamento_janeiro2018[\"ilesos\"].sum() / agrupamento_janeiro2018[\"pessoas\"].sum()\n",
    "\n",
    "agrupamento_fevereiro2018 = os_tres_anos.loc[(os_tres_anos[\"data_inversa\"].dt.year == 2018) & (os_tres_anos[\"data_inversa\"].dt.month == 2)]\n",
    "proporção_ilesas_fevereiro2018 = agrupamento_fevereiro2018[\"ilesos\"].sum() / agrupamento_fevereiro2018[\"pessoas\"].sum()\n",
    "\n",
    "agrupamento_marco2018 = os_tres_anos.loc[(os_tres_anos[\"data_inversa\"].dt.year == 2018) & (os_tres_anos[\"data_inversa\"].dt.month == 3)]\n",
    "proporção_ilesas_marco2018 = agrupamento_marco2018[\"ilesos\"].sum() / agrupamento_marco2018[\"pessoas\"].sum()\n",
    "\n",
    "agrupamento_abril2018 = os_tres_anos.loc[(os_tres_anos[\"data_inversa\"].dt.year == 2018) & (os_tres_anos[\"data_inversa\"].dt.month == 4)]\n",
    "proporção_ilesas_abril2018 = agrupamento_abril2018[\"ilesos\"].sum() / agrupamento_abril2018[\"pessoas\"].sum()\n",
    "\n",
    "agrupamento_maio2018 = os_tres_anos.loc[(os_tres_anos[\"data_inversa\"].dt.year == 2018) & (os_tres_anos[\"data_inversa\"].dt.month == 5)]\n",
    "proporção_ilesas_maio2018 = agrupamento_maio2018[\"ilesos\"].sum() / agrupamento_maio2018[\"pessoas\"].sum()\n",
    "\n",
    "agrupamento_junho2018 = os_tres_anos.loc[(os_tres_anos[\"data_inversa\"].dt.year == 2018) & (os_tres_anos[\"data_inversa\"].dt.month == 6)]\n",
    "proporção_ilesas_junho2018 = agrupamento_junho2018[\"ilesos\"].sum() / agrupamento_junho2018[\"pessoas\"].sum()\n",
    "\n",
    "agrupamento_julho2018 = os_tres_anos.loc[(os_tres_anos[\"data_inversa\"].dt.year == 2018) & (os_tres_anos[\"data_inversa\"].dt.month == 7)]\n",
    "proporção_ilesas_julho2018 = agrupamento_julho2018[\"ilesos\"].sum() / agrupamento_julho2018[\"pessoas\"].sum()\n",
    "\n",
    "agrupamento_agosto2018 = os_tres_anos.loc[(os_tres_anos[\"data_inversa\"].dt.year == 2018) & (os_tres_anos[\"data_inversa\"].dt.month == 8)]\n",
    "proporção_ilesas_agosto2018 = agrupamento_agosto2018[\"ilesos\"].sum() / agrupamento_agosto2018[\"pessoas\"].sum()\n",
    "\n",
    "agrupamento_setembro2018 = os_tres_anos.loc[(os_tres_anos[\"data_inversa\"].dt.year == 2018) & (os_tres_anos[\"data_inversa\"].dt.month == 9)]\n",
    "proporção_ilesas_setembro2018 = agrupamento_setembro2018[\"ilesos\"].sum() / agrupamento_setembro2018[\"pessoas\"].sum()\n",
    "\n",
    "agrupamento_outubro2018 = os_tres_anos.loc[(os_tres_anos[\"data_inversa\"].dt.year == 2018) & (os_tres_anos[\"data_inversa\"].dt.month == 10)]\n",
    "proporção_ilesas_outubro2018 = agrupamento_outubro2018[\"ilesos\"].sum() / agrupamento_outubro2018[\"pessoas\"].sum()\n",
    "\n",
    "agrupamento_novembro2018 = os_tres_anos.loc[(os_tres_anos[\"data_inversa\"].dt.year == 2018) & (os_tres_anos[\"data_inversa\"].dt.month == 11)]\n",
    "proporção_ilesas_novembro2018 = agrupamento_novembro2018[\"ilesos\"].sum() / agrupamento_novembro2018[\"pessoas\"].sum()\n",
    "\n",
    "agrupamento_dezembro2018 = os_tres_anos.loc[(os_tres_anos[\"data_inversa\"].dt.year == 2018) & (os_tres_anos[\"data_inversa\"].dt.month == 12)]\n",
    "proporção_ilesas_dezembro2018 = agrupamento_dezembro2018[\"ilesos\"].sum() / agrupamento_dezembro2018[\"pessoas\"].sum()"
   ]
  },
  {
   "cell_type": "code",
   "execution_count": null,
   "id": "7766b58b",
   "metadata": {},
   "outputs": [],
   "source": [
    "proporcao_de_ilesos2018 = pd.DataFrame({\"Proporção\": [proporção_ilesas_janeiro2018,proporção_ilesas_fevereiro2018,\n",
    "                       proporção_ilesas_marco2018,proporção_ilesas_abril2018,\n",
    "                       proporção_ilesas_maio2018,proporção_ilesas_junho2018,\n",
    "                      proporção_ilesas_julho2018,proporção_ilesas_agosto2018,\n",
    "                      proporção_ilesas_setembro2018,proporção_ilesas_outubro2018,\n",
    "                      proporção_ilesas_novembro2018,proporção_ilesas_dezembro2018]}\n",
    "                  ,index=[\"Janeiro\",\"Fevereiro\",\"Março\",\"Abril\",\"Maio\",\"Junho\",\"Julho\",\"Agosto\",\"Setembro\",\"Outubro\",\"Novembro\",\"Dezembro\"])\n",
    "proporcao_de_ilesos2018"
   ]
  },
  {
   "cell_type": "markdown",
   "id": "8f55288f",
   "metadata": {},
   "source": [
    "<div class=\"alert alert-block alert-info\">\n",
    "2019\n",
    "</div>"
   ]
  },
  {
   "cell_type": "code",
   "execution_count": null,
   "id": "82c05964",
   "metadata": {},
   "outputs": [],
   "source": [
    "agrupamento_janeiro2019 = os_tres_anos.loc[(os_tres_anos[\"data_inversa\"].dt.year == 2019) & (os_tres_anos[\"data_inversa\"].dt.month == 1)]\n",
    "proporção_ilesas_janeiro2019 = agrupamento_janeiro2019[\"ilesos\"].sum() / agrupamento_janeiro2019[\"pessoas\"].sum()\n",
    "\n",
    "agrupamento_fevereiro2019 = os_tres_anos.loc[(os_tres_anos[\"data_inversa\"].dt.year == 2019) & (os_tres_anos[\"data_inversa\"].dt.month == 2)]\n",
    "proporção_ilesas_fevereiro2019 = agrupamento_fevereiro2019[\"ilesos\"].sum() / agrupamento_fevereiro2019[\"pessoas\"].sum()\n",
    "\n",
    "agrupamento_marco2019 = os_tres_anos.loc[(os_tres_anos[\"data_inversa\"].dt.year == 2019) & (os_tres_anos[\"data_inversa\"].dt.month == 3)]\n",
    "proporção_ilesas_marco2019 = agrupamento_marco2019[\"ilesos\"].sum() / agrupamento_marco2019[\"pessoas\"].sum()\n",
    "\n",
    "agrupamento_abril2019 = os_tres_anos.loc[(os_tres_anos[\"data_inversa\"].dt.year == 2019) & (os_tres_anos[\"data_inversa\"].dt.month == 4)]\n",
    "proporção_ilesas_abril2019 = agrupamento_abril2019[\"ilesos\"].sum() / agrupamento_abril2019[\"pessoas\"].sum()\n",
    "\n",
    "agrupamento_maio2019 = os_tres_anos.loc[(os_tres_anos[\"data_inversa\"].dt.year == 2019) & (os_tres_anos[\"data_inversa\"].dt.month == 5)]\n",
    "proporção_ilesas_maio2019 = agrupamento_maio2019[\"ilesos\"].sum() / agrupamento_maio2019[\"pessoas\"].sum()\n",
    "\n",
    "agrupamento_junho2019 = os_tres_anos.loc[(os_tres_anos[\"data_inversa\"].dt.year == 2019) & (os_tres_anos[\"data_inversa\"].dt.month == 6)]\n",
    "proporção_ilesas_junho2019 = agrupamento_junho2019[\"ilesos\"].sum() / agrupamento_junho2019[\"pessoas\"].sum()\n",
    "\n",
    "agrupamento_julho2019 = os_tres_anos.loc[(os_tres_anos[\"data_inversa\"].dt.year == 2019) & (os_tres_anos[\"data_inversa\"].dt.month == 7)]\n",
    "proporção_ilesas_julho2019 = agrupamento_julho2019[\"ilesos\"].sum() / agrupamento_julho2019[\"pessoas\"].sum()\n",
    "\n",
    "agrupamento_agosto2019 = os_tres_anos.loc[(os_tres_anos[\"data_inversa\"].dt.year == 2019) & (os_tres_anos[\"data_inversa\"].dt.month == 8)]\n",
    "proporção_ilesas_agosto2019 = agrupamento_agosto2019[\"ilesos\"].sum() / agrupamento_agosto2019[\"pessoas\"].sum()\n",
    "\n",
    "agrupamento_setembro2019 = os_tres_anos.loc[(os_tres_anos[\"data_inversa\"].dt.year == 2019) & (os_tres_anos[\"data_inversa\"].dt.month == 9)]\n",
    "proporção_ilesas_setembro2019 = agrupamento_setembro2019[\"ilesos\"].sum() / agrupamento_setembro2019[\"pessoas\"].sum()\n",
    "\n",
    "agrupamento_outubro2019 = os_tres_anos.loc[(os_tres_anos[\"data_inversa\"].dt.year == 2019) & (os_tres_anos[\"data_inversa\"].dt.month == 10)]\n",
    "proporção_ilesas_outubro2019 = agrupamento_outubro2019[\"ilesos\"].sum() / agrupamento_outubro2019[\"pessoas\"].sum()\n",
    "\n",
    "agrupamento_novembro2019 = os_tres_anos.loc[(os_tres_anos[\"data_inversa\"].dt.year == 2019) & (os_tres_anos[\"data_inversa\"].dt.month == 11)]\n",
    "proporção_ilesas_novembro2019 = agrupamento_novembro2019[\"ilesos\"].sum() / agrupamento_novembro2019[\"pessoas\"].sum()\n",
    "\n",
    "agrupamento_dezembro2019 = os_tres_anos.loc[(os_tres_anos[\"data_inversa\"].dt.year == 2019) & (os_tres_anos[\"data_inversa\"].dt.month == 12)]\n",
    "proporção_ilesas_dezembro2019 = agrupamento_dezembro2019[\"ilesos\"].sum() / agrupamento_dezembro2019[\"pessoas\"].sum()"
   ]
  },
  {
   "cell_type": "code",
   "execution_count": null,
   "id": "9e5e7549",
   "metadata": {},
   "outputs": [],
   "source": [
    "proporcao_de_ilesos2019 = pd.DataFrame({\"Proporção\": [proporção_ilesas_janeiro2019,proporção_ilesas_fevereiro2019,\n",
    "                       proporção_ilesas_marco2019,proporção_ilesas_abril2019,\n",
    "                       proporção_ilesas_maio2019,proporção_ilesas_junho2019,\n",
    "                      proporção_ilesas_julho2019,proporção_ilesas_agosto2019,\n",
    "                      proporção_ilesas_setembro2019,proporção_ilesas_outubro2019,\n",
    "                      proporção_ilesas_novembro2019,proporção_ilesas_dezembro2019]}\n",
    "                  ,index=[\"Janeiro\",\"Fevereiro\",\"Março\",\"Abril\",\"Maio\",\"Junho\",\"Julho\",\"Agosto\",\"Setembro\",\"Outubro\",\"Novembro\",\"Dezembro\"])\n",
    "proporcao_de_ilesos2019"
   ]
  },
  {
   "cell_type": "markdown",
   "id": "ac6ea35a",
   "metadata": {},
   "source": [
    "<div class=\"alert alert-block alert-info\">\n",
    "2020\n",
    "</div>"
   ]
  },
  {
   "cell_type": "code",
   "execution_count": null,
   "id": "c3e81698",
   "metadata": {},
   "outputs": [],
   "source": [
    "agrupamento_janeiro2020 = os_tres_anos.loc[(os_tres_anos[\"data_inversa\"].dt.year == 2020) & (os_tres_anos[\"data_inversa\"].dt.month == 1)]\n",
    "proporção_ilesas_janeiro2020 = agrupamento_janeiro2020[\"ilesos\"].sum() / agrupamento_janeiro2020[\"pessoas\"].sum()\n",
    "\n",
    "agrupamento_fevereiro2020 = os_tres_anos.loc[(os_tres_anos[\"data_inversa\"].dt.year == 2020) & (os_tres_anos[\"data_inversa\"].dt.month == 2)]\n",
    "proporção_ilesas_fevereiro2020 = agrupamento_fevereiro2020[\"ilesos\"].sum() / agrupamento_fevereiro2020[\"pessoas\"].sum()\n",
    "\n",
    "agrupamento_marco2020 = os_tres_anos.loc[(os_tres_anos[\"data_inversa\"].dt.year == 2020) & (os_tres_anos[\"data_inversa\"].dt.month == 3)]\n",
    "proporção_ilesas_marco2020 = agrupamento_marco2020[\"ilesos\"].sum() / agrupamento_marco2020[\"pessoas\"].sum()\n",
    "\n",
    "agrupamento_abril2020 = os_tres_anos.loc[(os_tres_anos[\"data_inversa\"].dt.year == 2020) & (os_tres_anos[\"data_inversa\"].dt.month == 4)]\n",
    "proporção_ilesas_abril2020 = agrupamento_abril2020[\"ilesos\"].sum() / agrupamento_abril2020[\"pessoas\"].sum()\n",
    "\n",
    "agrupamento_maio2020 = os_tres_anos.loc[(os_tres_anos[\"data_inversa\"].dt.year == 2020) & (os_tres_anos[\"data_inversa\"].dt.month == 5)]\n",
    "proporção_ilesas_maio2020 = agrupamento_maio2020[\"ilesos\"].sum() / agrupamento_maio2020[\"pessoas\"].sum()\n",
    "\n",
    "agrupamento_junho2020 = os_tres_anos.loc[(os_tres_anos[\"data_inversa\"].dt.year == 2020) & (os_tres_anos[\"data_inversa\"].dt.month == 6)]\n",
    "proporção_ilesas_junho2020 = agrupamento_junho2020[\"ilesos\"].sum() / agrupamento_junho2020[\"pessoas\"].sum()\n",
    "\n",
    "agrupamento_julho2020 = os_tres_anos.loc[(os_tres_anos[\"data_inversa\"].dt.year == 2020) & (os_tres_anos[\"data_inversa\"].dt.month == 7)]\n",
    "proporção_ilesas_julho2020 = agrupamento_julho2020[\"ilesos\"].sum() / agrupamento_julho2020[\"pessoas\"].sum()\n",
    "\n",
    "agrupamento_agosto2020 = os_tres_anos.loc[(os_tres_anos[\"data_inversa\"].dt.year == 2020) & (os_tres_anos[\"data_inversa\"].dt.month == 8)]\n",
    "proporção_ilesas_agosto2020 = agrupamento_agosto2020[\"ilesos\"].sum() / agrupamento_agosto2020[\"pessoas\"].sum()\n",
    "\n",
    "agrupamento_setembro2020 = os_tres_anos.loc[(os_tres_anos[\"data_inversa\"].dt.year == 2020) & (os_tres_anos[\"data_inversa\"].dt.month == 9)]\n",
    "proporção_ilesas_setembro2020 = agrupamento_setembro2020[\"ilesos\"].sum() / agrupamento_setembro2020[\"pessoas\"].sum()\n",
    "\n",
    "agrupamento_outubro2020 = os_tres_anos.loc[(os_tres_anos[\"data_inversa\"].dt.year == 2020) & (os_tres_anos[\"data_inversa\"].dt.month == 10)]\n",
    "proporção_ilesas_outubro2020 = agrupamento_outubro2020[\"ilesos\"].sum() / agrupamento_outubro2020[\"pessoas\"].sum()\n",
    "\n",
    "agrupamento_novembro2020 = os_tres_anos.loc[(os_tres_anos[\"data_inversa\"].dt.year == 2020) & (os_tres_anos[\"data_inversa\"].dt.month == 11)]\n",
    "proporção_ilesas_novembro2020 = agrupamento_novembro2020[\"ilesos\"].sum() / agrupamento_novembro2020[\"pessoas\"].sum()\n",
    "\n",
    "agrupamento_dezembro2020 = os_tres_anos.loc[(os_tres_anos[\"data_inversa\"].dt.year == 2020) & (os_tres_anos[\"data_inversa\"].dt.month == 12)]\n",
    "proporção_ilesas_dezembro2020 = agrupamento_dezembro2020[\"ilesos\"].sum() / agrupamento_dezembro2020[\"pessoas\"].sum()"
   ]
  },
  {
   "cell_type": "code",
   "execution_count": null,
   "id": "c70de3fe",
   "metadata": {},
   "outputs": [],
   "source": [
    "proporcao_de_ilesos2020 = pd.DataFrame({\"Proporção\": [proporção_ilesas_janeiro2020,proporção_ilesas_fevereiro2020,\n",
    "                       proporção_ilesas_marco2020,proporção_ilesas_abril2020,\n",
    "                       proporção_ilesas_maio2020,proporção_ilesas_junho2020,\n",
    "                      proporção_ilesas_julho2020,proporção_ilesas_agosto2020,\n",
    "                      proporção_ilesas_setembro2020,proporção_ilesas_outubro2020,\n",
    "                      proporção_ilesas_novembro2020,proporção_ilesas_dezembro2020]}\n",
    "                  ,index=[\"Janeiro\",\"Fevereiro\",\"Março\",\"Abril\",\"Maio\",\"Junho\",\"Julho\",\"Agosto\",\"Setembro\",\"Outubro\",\"Novembro\",\"Dezembro\"])\n",
    "proporcao_de_ilesos2020"
   ]
  },
  {
   "cell_type": "markdown",
   "id": "2e683ffc",
   "metadata": {},
   "source": [
    "<span style=\"color:green\">**Gráfico dos meses em casa ano.**</span>"
   ]
  },
  {
   "cell_type": "code",
   "execution_count": null,
   "id": "4fdec4f0",
   "metadata": {},
   "outputs": [],
   "source": [
    "grafico_dos_meses = pd.DataFrame({\"2018\": [proporção_ilesas_janeiro2018,proporção_ilesas_fevereiro2018,proporção_ilesas_marco2018,proporção_ilesas_abril2018,\n",
    "                       proporção_ilesas_maio2018,proporção_ilesas_junho2018,\n",
    "                      proporção_ilesas_julho2018,proporção_ilesas_agosto2018,\n",
    "                      proporção_ilesas_setembro2018,proporção_ilesas_outubro2018,\n",
    "                      proporção_ilesas_novembro2018,proporção_ilesas_dezembro2018],\"2019\":\n",
    "                      [proporção_ilesas_janeiro2019,proporção_ilesas_fevereiro2019,\n",
    "                       proporção_ilesas_marco2019,proporção_ilesas_abril2019,\n",
    "                       proporção_ilesas_maio2019,proporção_ilesas_junho2019,\n",
    "                      proporção_ilesas_julho2019,proporção_ilesas_agosto2019,\n",
    "                      proporção_ilesas_setembro2019,proporção_ilesas_outubro2019,\n",
    "                      proporção_ilesas_novembro2019,proporção_ilesas_dezembro2019],\"2020\": \n",
    "                     [proporção_ilesas_janeiro2020,proporção_ilesas_fevereiro2020,\n",
    "                       proporção_ilesas_marco2020,proporção_ilesas_abril2020,\n",
    "                       proporção_ilesas_maio2020,proporção_ilesas_junho2020,\n",
    "                      proporção_ilesas_julho2020,proporção_ilesas_agosto2020,\n",
    "                      proporção_ilesas_setembro2020,proporção_ilesas_outubro2020,\n",
    "                      proporção_ilesas_novembro2020,proporção_ilesas_dezembro2020]},\n",
    "                    index=[\"Janeiro\",\"Fevereiro\",\"Março\",\"Abril\",\"Maio\",\"Junho\",\"Julho\",\"Agosto\",\"Setembro\",\"Outubro\",\"Novembro\",\"Dezembro\"])\n",
    "grafico_dos_meses.plot(kind=\"bar\")"
   ]
  },
  {
   "cell_type": "markdown",
   "id": "24512832",
   "metadata": {},
   "source": [
    "<div class=\"alert alert-block alert-info\">\n",
    "Dataframe e gráfico mostrando se a pandemia diminuio o número de acidentes\n",
    "</div>"
   ]
  },
  {
   "cell_type": "code",
   "execution_count": null,
   "id": "681ae00f",
   "metadata": {},
   "outputs": [],
   "source": [
    "ano_aparti_do_covid = os_tres_anos.loc[(os_tres_anos[\"data_inversa\"].dt.year == 2020) & (os_tres_anos[\"data_inversa\"].dt.month >= 2) \n",
    "               & (os_tres_anos[\"data_inversa\"].dt.day >= 26)] \n",
    "\n",
    "\n",
    "no_mesmo_intervalor_2019= os_tres_anos.loc[(os_tres_anos[\"data_inversa\"].dt.year == 2019) & (os_tres_anos[\"data_inversa\"].dt.month >= 2) \n",
    "               & (os_tres_anos[\"data_inversa\"].dt.day >= 26)] \n",
    "\n",
    "\n",
    "no_mesmo_intervalor_2018 = os_tres_anos.loc[(os_tres_anos[\"data_inversa\"].dt.year == 2018) & (os_tres_anos[\"data_inversa\"].dt.month >= 2) \n",
    "               & (os_tres_anos[\"data_inversa\"].dt.day >= 26)] \n"
   ]
  },
  {
   "cell_type": "code",
   "execution_count": null,
   "id": "2f992bb3",
   "metadata": {},
   "outputs": [],
   "source": [
    "df_da_diferenca_da_quantidade = pd.DataFrame({\"2018 (mesma quantidade de dias)\":[no_mesmo_intervalor_2018.shape[0]],\n",
    "                                              \"2019 (mesma quantidade de dias)\":[no_mesmo_intervalor_2019.shape[0]],\n",
    "                                              \"2020 (com inicio do covid-19)\": [ano_aparti_do_covid.shape[0]]})\n",
    "df_da_diferenca_da_quantidade"
   ]
  },
  {
   "cell_type": "code",
   "execution_count": null,
   "id": "c19e0a00",
   "metadata": {
    "scrolled": true
   },
   "outputs": [],
   "source": [
    "grafico_da_diferenca = pd.DataFrame({\"N° de acidentes a partir da data do primeiro caso em 2020\": \n",
    "                                     [no_mesmo_intervalor_2018.shape[0],no_mesmo_intervalor_2019.shape[0],\n",
    "                                      ano_aparti_do_covid.shape[0]]},\n",
    "                                     index=[\"2018\",\"2019\",\"2020\"])\n",
    "grafico_da_diferenca.plot(kind=\"pie\", subplots = True,autopct = \"%.2f\")"
   ]
  },
  {
   "cell_type": "markdown",
   "id": "80b6a85f",
   "metadata": {},
   "source": [
    "<span style=\"color:green\">**Podemos perceber que a diferença dos outros anos para o com a pandemia foi maior.\n",
    "    A diferença entre 2019 para 2020 foi de 2,29%, sendo de 705 casos de acidentes.\n",
    "    E a diferença entre 2018 para 2020 foi de 0,69%, sende de 211 casos de acidentes.\n",
    "    A diferença no mesmo intervalo foi pouco para 2018 e um pouco maior em 2019**</span>"
   ]
  }
 ],
 "metadata": {
  "kernelspec": {
   "display_name": "Python 3 (ipykernel)",
   "language": "python",
   "name": "python3"
  },
  "language_info": {
   "codemirror_mode": {
    "name": "ipython",
    "version": 3
   },
   "file_extension": ".py",
   "mimetype": "text/x-python",
   "name": "python",
   "nbconvert_exporter": "python",
   "pygments_lexer": "ipython3",
   "version": "3.9.7"
  }
 },
 "nbformat": 4,
 "nbformat_minor": 5
}
