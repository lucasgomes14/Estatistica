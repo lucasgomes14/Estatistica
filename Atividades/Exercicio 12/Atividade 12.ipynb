{
 "cells": [
  {
   "cell_type": "markdown",
   "id": "711e90bc",
   "metadata": {},
   "source": [
    "<div class=\"alert alert-block alert-info\">\n",
    "<center>ESTATÍSTICA APLICADA</center>\n",
    "<center>Lista 12</center>\n",
    "<center>ALUNO: Lucas Matheus Gomes de Lima.</center>\n",
    "</div>"
   ]
  },
  {
   "cell_type": "code",
   "execution_count": 1,
   "id": "a65de491",
   "metadata": {},
   "outputs": [],
   "source": [
    "import pandas as pd\n",
    "import matplotlib.pyplot as plt\n",
    "import numpy as np"
   ]
  },
  {
   "cell_type": "markdown",
   "id": "8322db72",
   "metadata": {},
   "source": [
    "<div class=\"alert alert-block alert-info\">\n",
    "1. O conjunto de dados dados1.csv possue notas de 100 alunos do curso de Economia da FEA-USP, em prova da\n",
    "disciplina Introdução à Probabilidade e à Estatística, 1999. Construe uma distribuição de frequencias e um\n",
    "gráfico para essas notas.\n",
    "</div>"
   ]
  },
  {
   "cell_type": "code",
   "execution_count": 2,
   "id": "d9f31779",
   "metadata": {
    "scrolled": true
   },
   "outputs": [],
   "source": [
    "df1 = pd.read_csv(\"https://github.com/lucasgomes14/Estatistica/blob/433b3b7debc1c253ec7635c604f1ad4ecd1ae60e/Atividades/Exercicio%2012/dados1.csv\", sep = \";\", encoding= \"latin1\", header= None, decimal= \",\")\n"
   ]
  },
  {
   "cell_type": "code",
   "execution_count": 3,
   "id": "b416e04a",
   "metadata": {
    "scrolled": true
   },
   "outputs": [],
   "source": [
    "f, classes = np.histogram(df1.values.reshape(100,), bins=\"auto\")"
   ]
  },
  {
   "cell_type": "code",
   "execution_count": 4,
   "id": "f2c66d66",
   "metadata": {},
   "outputs": [
    {
     "data": {
      "text/plain": [
       "array([ 1.5       ,  2.44444444,  3.38888889,  4.33333333,  5.27777778,\n",
       "        6.22222222,  7.16666667,  8.11111111,  9.05555556, 10.        ])"
      ]
     },
     "execution_count": 4,
     "metadata": {},
     "output_type": "execute_result"
    }
   ],
   "source": [
    "classes"
   ]
  },
  {
   "cell_type": "code",
   "execution_count": 5,
   "id": "43455b9f",
   "metadata": {},
   "outputs": [
    {
     "data": {
      "image/png": "[encoded data removed]",
      "text/plain": [
       "<Figure size 432x288 with 1 Axes>"
      ]
     },
     "metadata": {
      "needs_background": "light"
     },
     "output_type": "display_data"
    }
   ],
   "source": [
    "fi, classes1, x = plt.hist(df1,bins = \"auto\")\n",
    "plt.xticks(classes1)\n",
    "plt.grid()"
   ]
  },
  {
   "cell_type": "markdown",
   "id": "9bbf189a",
   "metadata": {},
   "source": [
    "<div class=\"alert alert-block alert-info\">\n",
    "2. O conjunto de dados dados2.csv mostra os dados brutos de uma amostra de 27 imóveis anunciados para venda\n",
    "nos anúncios de um site especializado. Nesse exemplo, cada observação é um imóvel e cada variável é um\n",
    "atributo dos imóveis (bairro, tipo, número de quartos, preço).\n",
    "</div>"
   ]
  },
  {
   "cell_type": "code",
   "execution_count": 6,
   "id": "66c38168",
   "metadata": {},
   "outputs": [
    {
     "data": {
      "text/html": [
       "<div>\n",
       "<style scoped>\n",
       "    .dataframe tbody tr th:only-of-type {\n",
       "        vertical-align: middle;\n",
       "    }\n",
       "\n",
       "    .dataframe tbody tr th {\n",
       "        vertical-align: top;\n",
       "    }\n",
       "\n",
       "    .dataframe thead th {\n",
       "        text-align: right;\n",
       "    }\n",
       "</style>\n",
       "<table border=\"1\" class=\"dataframe\">\n",
       "  <thead>\n",
       "    <tr style=\"text-align: right;\">\n",
       "      <th></th>\n",
       "      <th>Bairro</th>\n",
       "      <th>Tipo</th>\n",
       "      <th>N de quartos</th>\n",
       "      <th>Preço (mil)</th>\n",
       "    </tr>\n",
       "  </thead>\n",
       "  <tbody>\n",
       "    <tr>\n",
       "      <th>0</th>\n",
       "      <td>Barra</td>\n",
       "      <td>Apto.</td>\n",
       "      <td>2</td>\n",
       "      <td>165</td>\n",
       "    </tr>\n",
       "    <tr>\n",
       "      <th>1</th>\n",
       "      <td>Barra</td>\n",
       "      <td>Apto.</td>\n",
       "      <td>3</td>\n",
       "      <td>240</td>\n",
       "    </tr>\n",
       "    <tr>\n",
       "      <th>2</th>\n",
       "      <td>Barra</td>\n",
       "      <td>Cobt.</td>\n",
       "      <td>3</td>\n",
       "      <td>158</td>\n",
       "    </tr>\n",
       "    <tr>\n",
       "      <th>3</th>\n",
       "      <td>Barra</td>\n",
       "      <td>Sala</td>\n",
       "      <td>0</td>\n",
       "      <td>90</td>\n",
       "    </tr>\n",
       "    <tr>\n",
       "      <th>4</th>\n",
       "      <td>Botafogo</td>\n",
       "      <td>Apto.</td>\n",
       "      <td>2</td>\n",
       "      <td>270</td>\n",
       "    </tr>\n",
       "    <tr>\n",
       "      <th>5</th>\n",
       "      <td>Catete</td>\n",
       "      <td>Apto.</td>\n",
       "      <td>1</td>\n",
       "      <td>250</td>\n",
       "    </tr>\n",
       "    <tr>\n",
       "      <th>6</th>\n",
       "      <td>Centro</td>\n",
       "      <td>Sala</td>\n",
       "      <td>1</td>\n",
       "      <td>110</td>\n",
       "    </tr>\n",
       "    <tr>\n",
       "      <th>7</th>\n",
       "      <td>Copacabana</td>\n",
       "      <td>Apto.</td>\n",
       "      <td>2</td>\n",
       "      <td>210</td>\n",
       "    </tr>\n",
       "    <tr>\n",
       "      <th>8</th>\n",
       "      <td>Copacabana</td>\n",
       "      <td>Apto.</td>\n",
       "      <td>2</td>\n",
       "      <td>200</td>\n",
       "    </tr>\n",
       "    <tr>\n",
       "      <th>9</th>\n",
       "      <td>Copacabana</td>\n",
       "      <td>Apto.</td>\n",
       "      <td>3</td>\n",
       "      <td>280</td>\n",
       "    </tr>\n",
       "    <tr>\n",
       "      <th>10</th>\n",
       "      <td>Flamengo</td>\n",
       "      <td>Apto.</td>\n",
       "      <td>&gt;=4</td>\n",
       "      <td>330</td>\n",
       "    </tr>\n",
       "    <tr>\n",
       "      <th>11</th>\n",
       "      <td>Flamengo</td>\n",
       "      <td>Cobt.</td>\n",
       "      <td>1</td>\n",
       "      <td>180</td>\n",
       "    </tr>\n",
       "    <tr>\n",
       "      <th>12</th>\n",
       "      <td>Gávea</td>\n",
       "      <td>Apto.</td>\n",
       "      <td>3</td>\n",
       "      <td>290</td>\n",
       "    </tr>\n",
       "    <tr>\n",
       "      <th>13</th>\n",
       "      <td>Jacarepaguá</td>\n",
       "      <td>Apto.</td>\n",
       "      <td>&gt;=4</td>\n",
       "      <td>320</td>\n",
       "    </tr>\n",
       "    <tr>\n",
       "      <th>14</th>\n",
       "      <td>Ipanema</td>\n",
       "      <td>Apto.</td>\n",
       "      <td>3</td>\n",
       "      <td>276</td>\n",
       "    </tr>\n",
       "    <tr>\n",
       "      <th>15</th>\n",
       "      <td>Lagoa</td>\n",
       "      <td>Apto.</td>\n",
       "      <td>3</td>\n",
       "      <td>254</td>\n",
       "    </tr>\n",
       "    <tr>\n",
       "      <th>16</th>\n",
       "      <td>Laranjeiras</td>\n",
       "      <td>Apto.</td>\n",
       "      <td>2</td>\n",
       "      <td>220</td>\n",
       "    </tr>\n",
       "    <tr>\n",
       "      <th>17</th>\n",
       "      <td>Laranjeiras</td>\n",
       "      <td>Apto.</td>\n",
       "      <td>2</td>\n",
       "      <td>219</td>\n",
       "    </tr>\n",
       "    <tr>\n",
       "      <th>18</th>\n",
       "      <td>Leblon</td>\n",
       "      <td>Apto.</td>\n",
       "      <td>&gt;=4</td>\n",
       "      <td>340</td>\n",
       "    </tr>\n",
       "    <tr>\n",
       "      <th>19</th>\n",
       "      <td>Leblon</td>\n",
       "      <td>Apto.</td>\n",
       "      <td>3</td>\n",
       "      <td>260</td>\n",
       "    </tr>\n",
       "    <tr>\n",
       "      <th>20</th>\n",
       "      <td>Maracanã</td>\n",
       "      <td>Apto.</td>\n",
       "      <td>&gt;=4</td>\n",
       "      <td>338</td>\n",
       "    </tr>\n",
       "    <tr>\n",
       "      <th>21</th>\n",
       "      <td>Recreio</td>\n",
       "      <td>Cobt.</td>\n",
       "      <td>3</td>\n",
       "      <td>290</td>\n",
       "    </tr>\n",
       "    <tr>\n",
       "      <th>22</th>\n",
       "      <td>São Conrado</td>\n",
       "      <td>Casa</td>\n",
       "      <td>&gt;=4</td>\n",
       "      <td>430</td>\n",
       "    </tr>\n",
       "    <tr>\n",
       "      <th>23</th>\n",
       "      <td>Tijuca</td>\n",
       "      <td>Apto.</td>\n",
       "      <td>2</td>\n",
       "      <td>200</td>\n",
       "    </tr>\n",
       "    <tr>\n",
       "      <th>24</th>\n",
       "      <td>Tijuca</td>\n",
       "      <td>Apto.</td>\n",
       "      <td>2</td>\n",
       "      <td>210</td>\n",
       "    </tr>\n",
       "    <tr>\n",
       "      <th>25</th>\n",
       "      <td>Tijuca</td>\n",
       "      <td>Casa</td>\n",
       "      <td>&gt;=4</td>\n",
       "      <td>370</td>\n",
       "    </tr>\n",
       "    <tr>\n",
       "      <th>26</th>\n",
       "      <td>Vila Isabel</td>\n",
       "      <td>Apto.</td>\n",
       "      <td>2</td>\n",
       "      <td>230</td>\n",
       "    </tr>\n",
       "  </tbody>\n",
       "</table>\n",
       "</div>"
      ],
      "text/plain": [
       "         Bairro   Tipo N de quartos  Preço (mil)\n",
       "0         Barra  Apto.            2          165\n",
       "1         Barra  Apto.            3          240\n",
       "2         Barra  Cobt.            3          158\n",
       "3         Barra   Sala            0           90\n",
       "4      Botafogo  Apto.            2          270\n",
       "5        Catete  Apto.            1          250\n",
       "6        Centro   Sala            1          110\n",
       "7    Copacabana  Apto.            2          210\n",
       "8    Copacabana  Apto.            2          200\n",
       "9    Copacabana  Apto.            3          280\n",
       "10     Flamengo  Apto.          >=4          330\n",
       "11     Flamengo  Cobt.            1          180\n",
       "12        Gávea  Apto.            3          290\n",
       "13  Jacarepaguá  Apto.          >=4          320\n",
       "14      Ipanema  Apto.            3          276\n",
       "15        Lagoa  Apto.            3          254\n",
       "16  Laranjeiras  Apto.            2          220\n",
       "17  Laranjeiras  Apto.            2          219\n",
       "18       Leblon  Apto.          >=4          340\n",
       "19       Leblon  Apto.            3          260\n",
       "20     Maracanã  Apto.          >=4          338\n",
       "21      Recreio  Cobt.            3          290\n",
       "22  São Conrado   Casa          >=4          430\n",
       "23       Tijuca  Apto.            2          200\n",
       "24       Tijuca  Apto.            2          210\n",
       "25       Tijuca   Casa          >=4          370\n",
       "26  Vila Isabel  Apto.            2          230"
      ]
     },
     "execution_count": 6,
     "metadata": {},
     "output_type": "execute_result"
    }
   ],
   "source": [
    "df2 = pd.read_csv(\"https://github.com/lucasgomes14/Estatistica/blob/433b3b7debc1c253ec7635c604f1ad4ecd1ae60e/Atividades/Exercicio%2012/dados2.csv\", sep = \";\")\n",
    "df2"
   ]
  },
  {
   "cell_type": "markdown",
   "id": "f970ff74",
   "metadata": {},
   "source": [
    "<div class=\"alert alert-block alert-info\">\n",
    "(a) classifique cada variável do conjunto;\n",
    "</div>"
   ]
  },
  {
   "cell_type": "markdown",
   "id": "8a685475",
   "metadata": {},
   "source": [
    "Bairro = Qualitativo nominal \n"
   ]
  },
  {
   "cell_type": "markdown",
   "id": "d4ff6f47",
   "metadata": {},
   "source": [
    "Tipo = Qualitativo ordinal "
   ]
  },
  {
   "cell_type": "markdown",
   "id": "8261776e",
   "metadata": {},
   "source": [
    "N de quartos = Qualitativo ordinal"
   ]
  },
  {
   "cell_type": "markdown",
   "id": "0c128116",
   "metadata": {},
   "source": [
    "Preço(mil) = Quantitativo discreto"
   ]
  },
  {
   "cell_type": "markdown",
   "id": "c57f2ec6",
   "metadata": {},
   "source": [
    "<div class=\"alert alert-block alert-info\">\n",
    "(b) monte uma distribuição de frequência para cada uma das variáveis;\n",
    "</div>"
   ]
  },
  {
   "cell_type": "markdown",
   "id": "dbeb68c5",
   "metadata": {},
   "source": [
    "<span style=\"color:green\">**Bairro**</span>"
   ]
  },
  {
   "cell_type": "code",
   "execution_count": 7,
   "id": "024ba2c9",
   "metadata": {},
   "outputs": [
    {
     "data": {
      "text/plain": [
       "Barra          14.814815\n",
       "Tijuca         11.111111\n",
       "Copacabana     11.111111\n",
       "Laranjeiras     7.407407\n",
       "Flamengo        7.407407\n",
       "Leblon          7.407407\n",
       "São Conrado     3.703704\n",
       "Recreio         3.703704\n",
       "Maracanã        3.703704\n",
       "Ipanema         3.703704\n",
       "Lagoa           3.703704\n",
       "Botafogo        3.703704\n",
       "Jacarepaguá     3.703704\n",
       "Gávea           3.703704\n",
       "Centro          3.703704\n",
       "Catete          3.703704\n",
       "Vila Isabel     3.703704\n",
       "Name: Bairro, dtype: float64"
      ]
     },
     "execution_count": 7,
     "metadata": {},
     "output_type": "execute_result"
    }
   ],
   "source": [
    "df2[\"Bairro\"].value_counts(normalize = True)*100"
   ]
  },
  {
   "cell_type": "markdown",
   "id": "7c75f406",
   "metadata": {},
   "source": [
    "<span style=\"color:green\">**Tipo**</span>"
   ]
  },
  {
   "cell_type": "code",
   "execution_count": 8,
   "id": "55fc93c4",
   "metadata": {},
   "outputs": [
    {
     "data": {
      "text/plain": [
       "Apto.    74.074074\n",
       "Cobt.    11.111111\n",
       "Sala      7.407407\n",
       "Casa      7.407407\n",
       "Name: Tipo, dtype: float64"
      ]
     },
     "execution_count": 8,
     "metadata": {},
     "output_type": "execute_result"
    }
   ],
   "source": [
    "df2[\"Tipo\"].value_counts(normalize = True)*100"
   ]
  },
  {
   "cell_type": "markdown",
   "id": "3605deee",
   "metadata": {},
   "source": [
    "<span style=\"color:green\">**N de quartos**</span>"
   ]
  },
  {
   "cell_type": "code",
   "execution_count": 9,
   "id": "a6726bc4",
   "metadata": {},
   "outputs": [
    {
     "data": {
      "text/plain": [
       "2      33.333333\n",
       "3      29.629630\n",
       ">=4    22.222222\n",
       "1      11.111111\n",
       "0       3.703704\n",
       "Name: N de quartos, dtype: float64"
      ]
     },
     "execution_count": 9,
     "metadata": {},
     "output_type": "execute_result"
    }
   ],
   "source": [
    "df2[\"N de quartos\"].value_counts(normalize = True)*100"
   ]
  },
  {
   "cell_type": "markdown",
   "id": "905e5376",
   "metadata": {},
   "source": [
    "<span style=\"color:green\">**Preço(mil)**</span>"
   ]
  },
  {
   "cell_type": "code",
   "execution_count": 10,
   "id": "163dbf95",
   "metadata": {},
   "outputs": [
    {
     "data": {
      "text/plain": [
       "array([ 90.        , 146.66666667, 203.33333333, 260.        ,\n",
       "       316.66666667, 373.33333333, 430.        ])"
      ]
     },
     "execution_count": 10,
     "metadata": {},
     "output_type": "execute_result"
    }
   ],
   "source": [
    "f2, classes2 = np.histogram(df2[\"Preço (mil)\"], bins = \"auto\")\n",
    "classes2"
   ]
  },
  {
   "cell_type": "markdown",
   "id": "6017612e",
   "metadata": {},
   "source": [
    "<div class=\"alert alert-block alert-info\">\n",
    "(c) crie um gráfico representando cada uam das variáveis disponíveis.\n",
    "</div>"
   ]
  },
  {
   "cell_type": "markdown",
   "id": "61dee66a",
   "metadata": {},
   "source": [
    "<span style=\"color:green\">**Bairros**</span>"
   ]
  },
  {
   "cell_type": "code",
   "execution_count": 11,
   "id": "3dd07d8a",
   "metadata": {},
   "outputs": [
    {
     "data": {
      "image/png": "[encoded data removed]",
      "text/plain": [
       "<Figure size 432x288 with 1 Axes>"
      ]
     },
     "metadata": {
      "needs_background": "light"
     },
     "output_type": "display_data"
    }
   ],
   "source": [
    "%matplotlib inline\n",
    "df2[\"Bairro\"].value_counts(ascending = True).plot.bar(title = \"Bairros\")\n",
    "plt.grid()"
   ]
  },
  {
   "cell_type": "markdown",
   "id": "8907af4e",
   "metadata": {},
   "source": [
    "<span style=\"color:green\">**Tipo**</span>"
   ]
  },
  {
   "cell_type": "code",
   "execution_count": 12,
   "id": "d0c0f6ca",
   "metadata": {},
   "outputs": [
    {
     "data": {
      "image/png": "[encoded data removed]",
      "text/plain": [
       "<Figure size 432x288 with 1 Axes>"
      ]
     },
     "metadata": {
      "needs_background": "light"
     },
     "output_type": "display_data"
    }
   ],
   "source": [
    "df2[\"Tipo\"].value_counts(ascending = True).plot.bar(title = \"Tipo\")\n",
    "plt.grid()"
   ]
  },
  {
   "cell_type": "markdown",
   "id": "bd9a20f0",
   "metadata": {},
   "source": [
    "<span style=\"color:green\">**N de quartos**</span>"
   ]
  },
  {
   "cell_type": "code",
   "execution_count": 13,
   "id": "591cc60f",
   "metadata": {},
   "outputs": [
    {
     "data": {
      "image/png": "[encoded data removed]",
      "text/plain": [
       "<Figure size 432x288 with 1 Axes>"
      ]
     },
     "metadata": {
      "needs_background": "light"
     },
     "output_type": "display_data"
    }
   ],
   "source": [
    "df2[\"N de quartos\"].value_counts(ascending = True).plot.bar(title = \"N de quartos\")\n",
    "plt.grid()"
   ]
  },
  {
   "cell_type": "markdown",
   "id": "68b0d2ce",
   "metadata": {},
   "source": [
    "<span style=\"color:green\">**Preço(mil)**</span>"
   ]
  },
  {
   "cell_type": "code",
   "execution_count": 14,
   "id": "a116e994",
   "metadata": {},
   "outputs": [
    {
     "data": {
      "image/png": "[encoded data removed]",
      "text/plain": [
       "<Figure size 432x288 with 1 Axes>"
      ]
     },
     "metadata": {
      "needs_background": "light"
     },
     "output_type": "display_data"
    }
   ],
   "source": [
    "f2, classes2, x = plt.hist(df2[\"Preço (mil)\"],bins = \"auto\")\n",
    "plt.xticks(classes2)\n",
    "plt.yticks(f2)\n",
    "plt.grid()"
   ]
  },
  {
   "cell_type": "markdown",
   "id": "4723025f",
   "metadata": {},
   "source": [
    "<div class=\"alert alert-block alert-info\">\n",
    "3. O conjunto de dados dados3.xls traz informações sobre um questionário aplicado aos alunos do primeiro ano\n",
    "do ensino médio de uma escola fornecendo informações sobre as seguintes variáveis:\n",
    "</div>"
   ]
  },
  {
   "cell_type": "code",
   "execution_count": 15,
   "id": "47b7ae06",
   "metadata": {},
   "outputs": [
    {
     "data": {
      "text/html": [
       "<div>\n",
       "<style scoped>\n",
       "    .dataframe tbody tr th:only-of-type {\n",
       "        vertical-align: middle;\n",
       "    }\n",
       "\n",
       "    .dataframe tbody tr th {\n",
       "        vertical-align: top;\n",
       "    }\n",
       "\n",
       "    .dataframe thead th {\n",
       "        text-align: right;\n",
       "    }\n",
       "</style>\n",
       "<table border=\"1\" class=\"dataframe\">\n",
       "  <thead>\n",
       "    <tr style=\"text-align: right;\">\n",
       "      <th></th>\n",
       "      <th>Turma</th>\n",
       "      <th>Sexo</th>\n",
       "      <th>Idade</th>\n",
       "      <th>Alt</th>\n",
       "      <th>Peso</th>\n",
       "      <th>Filhos</th>\n",
       "      <th>Fuma</th>\n",
       "      <th>Toler</th>\n",
       "      <th>Exerc</th>\n",
       "      <th>Cine</th>\n",
       "      <th>OpCine</th>\n",
       "      <th>TV</th>\n",
       "      <th>OpTV</th>\n",
       "    </tr>\n",
       "  </thead>\n",
       "  <tbody>\n",
       "    <tr>\n",
       "      <th>0</th>\n",
       "      <td>A</td>\n",
       "      <td>F</td>\n",
       "      <td>17</td>\n",
       "      <td>1.60</td>\n",
       "      <td>60.5</td>\n",
       "      <td>2</td>\n",
       "      <td>NAO</td>\n",
       "      <td>P</td>\n",
       "      <td>0</td>\n",
       "      <td>1</td>\n",
       "      <td>B</td>\n",
       "      <td>16</td>\n",
       "      <td>R</td>\n",
       "    </tr>\n",
       "    <tr>\n",
       "      <th>1</th>\n",
       "      <td>A</td>\n",
       "      <td>F</td>\n",
       "      <td>18</td>\n",
       "      <td>1.69</td>\n",
       "      <td>55.0</td>\n",
       "      <td>1</td>\n",
       "      <td>NAO</td>\n",
       "      <td>M</td>\n",
       "      <td>0</td>\n",
       "      <td>1</td>\n",
       "      <td>B</td>\n",
       "      <td>7</td>\n",
       "      <td>R</td>\n",
       "    </tr>\n",
       "    <tr>\n",
       "      <th>2</th>\n",
       "      <td>A</td>\n",
       "      <td>M</td>\n",
       "      <td>18</td>\n",
       "      <td>1.85</td>\n",
       "      <td>72.8</td>\n",
       "      <td>2</td>\n",
       "      <td>NAO</td>\n",
       "      <td>P</td>\n",
       "      <td>5</td>\n",
       "      <td>2</td>\n",
       "      <td>M</td>\n",
       "      <td>15</td>\n",
       "      <td>R</td>\n",
       "    </tr>\n",
       "    <tr>\n",
       "      <th>3</th>\n",
       "      <td>A</td>\n",
       "      <td>M</td>\n",
       "      <td>25</td>\n",
       "      <td>1.85</td>\n",
       "      <td>80.9</td>\n",
       "      <td>2</td>\n",
       "      <td>NAO</td>\n",
       "      <td>P</td>\n",
       "      <td>5</td>\n",
       "      <td>2</td>\n",
       "      <td>B</td>\n",
       "      <td>20</td>\n",
       "      <td>R</td>\n",
       "    </tr>\n",
       "    <tr>\n",
       "      <th>4</th>\n",
       "      <td>A</td>\n",
       "      <td>F</td>\n",
       "      <td>19</td>\n",
       "      <td>1.58</td>\n",
       "      <td>55.0</td>\n",
       "      <td>1</td>\n",
       "      <td>NAO</td>\n",
       "      <td>M</td>\n",
       "      <td>2</td>\n",
       "      <td>2</td>\n",
       "      <td>B</td>\n",
       "      <td>5</td>\n",
       "      <td>R</td>\n",
       "    </tr>\n",
       "    <tr>\n",
       "      <th>5</th>\n",
       "      <td>A</td>\n",
       "      <td>M</td>\n",
       "      <td>19</td>\n",
       "      <td>1.76</td>\n",
       "      <td>60.0</td>\n",
       "      <td>3</td>\n",
       "      <td>NAO</td>\n",
       "      <td>M</td>\n",
       "      <td>2</td>\n",
       "      <td>1</td>\n",
       "      <td>B</td>\n",
       "      <td>2</td>\n",
       "      <td>R</td>\n",
       "    </tr>\n",
       "    <tr>\n",
       "      <th>6</th>\n",
       "      <td>A</td>\n",
       "      <td>F</td>\n",
       "      <td>20</td>\n",
       "      <td>1.60</td>\n",
       "      <td>58.0</td>\n",
       "      <td>1</td>\n",
       "      <td>NAO</td>\n",
       "      <td>P</td>\n",
       "      <td>3</td>\n",
       "      <td>1</td>\n",
       "      <td>B</td>\n",
       "      <td>7</td>\n",
       "      <td>R</td>\n",
       "    </tr>\n",
       "    <tr>\n",
       "      <th>7</th>\n",
       "      <td>A</td>\n",
       "      <td>F</td>\n",
       "      <td>18</td>\n",
       "      <td>1.64</td>\n",
       "      <td>47.0</td>\n",
       "      <td>1</td>\n",
       "      <td>SIM</td>\n",
       "      <td>I</td>\n",
       "      <td>2</td>\n",
       "      <td>2</td>\n",
       "      <td>M</td>\n",
       "      <td>10</td>\n",
       "      <td>R</td>\n",
       "    </tr>\n",
       "    <tr>\n",
       "      <th>8</th>\n",
       "      <td>A</td>\n",
       "      <td>F</td>\n",
       "      <td>18</td>\n",
       "      <td>1.62</td>\n",
       "      <td>57.8</td>\n",
       "      <td>3</td>\n",
       "      <td>NAO</td>\n",
       "      <td>M</td>\n",
       "      <td>3</td>\n",
       "      <td>3</td>\n",
       "      <td>M</td>\n",
       "      <td>12</td>\n",
       "      <td>R</td>\n",
       "    </tr>\n",
       "    <tr>\n",
       "      <th>9</th>\n",
       "      <td>A</td>\n",
       "      <td>F</td>\n",
       "      <td>17</td>\n",
       "      <td>1.64</td>\n",
       "      <td>58.0</td>\n",
       "      <td>2</td>\n",
       "      <td>NAO</td>\n",
       "      <td>M</td>\n",
       "      <td>2</td>\n",
       "      <td>2</td>\n",
       "      <td>M</td>\n",
       "      <td>10</td>\n",
       "      <td>R</td>\n",
       "    </tr>\n",
       "    <tr>\n",
       "      <th>10</th>\n",
       "      <td>A</td>\n",
       "      <td>F</td>\n",
       "      <td>18</td>\n",
       "      <td>1.72</td>\n",
       "      <td>70.0</td>\n",
       "      <td>1</td>\n",
       "      <td>SIM</td>\n",
       "      <td>I</td>\n",
       "      <td>10</td>\n",
       "      <td>2</td>\n",
       "      <td>B</td>\n",
       "      <td>8</td>\n",
       "      <td>N</td>\n",
       "    </tr>\n",
       "    <tr>\n",
       "      <th>11</th>\n",
       "      <td>A</td>\n",
       "      <td>F</td>\n",
       "      <td>18</td>\n",
       "      <td>1.66</td>\n",
       "      <td>54.0</td>\n",
       "      <td>3</td>\n",
       "      <td>NAO</td>\n",
       "      <td>M</td>\n",
       "      <td>0</td>\n",
       "      <td>2</td>\n",
       "      <td>B</td>\n",
       "      <td>0</td>\n",
       "      <td>R</td>\n",
       "    </tr>\n",
       "    <tr>\n",
       "      <th>12</th>\n",
       "      <td>A</td>\n",
       "      <td>F</td>\n",
       "      <td>21</td>\n",
       "      <td>1.70</td>\n",
       "      <td>58.0</td>\n",
       "      <td>2</td>\n",
       "      <td>NAO</td>\n",
       "      <td>M</td>\n",
       "      <td>6</td>\n",
       "      <td>1</td>\n",
       "      <td>M</td>\n",
       "      <td>30</td>\n",
       "      <td>R</td>\n",
       "    </tr>\n",
       "    <tr>\n",
       "      <th>13</th>\n",
       "      <td>A</td>\n",
       "      <td>M</td>\n",
       "      <td>19</td>\n",
       "      <td>1.78</td>\n",
       "      <td>68.5</td>\n",
       "      <td>1</td>\n",
       "      <td>SIM</td>\n",
       "      <td>I</td>\n",
       "      <td>5</td>\n",
       "      <td>1</td>\n",
       "      <td>M</td>\n",
       "      <td>2</td>\n",
       "      <td>N</td>\n",
       "    </tr>\n",
       "    <tr>\n",
       "      <th>14</th>\n",
       "      <td>A</td>\n",
       "      <td>F</td>\n",
       "      <td>18</td>\n",
       "      <td>1.65</td>\n",
       "      <td>63.5</td>\n",
       "      <td>1</td>\n",
       "      <td>NAO</td>\n",
       "      <td>I</td>\n",
       "      <td>4</td>\n",
       "      <td>1</td>\n",
       "      <td>B</td>\n",
       "      <td>10</td>\n",
       "      <td>R</td>\n",
       "    </tr>\n",
       "    <tr>\n",
       "      <th>15</th>\n",
       "      <td>A</td>\n",
       "      <td>F</td>\n",
       "      <td>19</td>\n",
       "      <td>1.63</td>\n",
       "      <td>47.4</td>\n",
       "      <td>3</td>\n",
       "      <td>NAO</td>\n",
       "      <td>P</td>\n",
       "      <td>0</td>\n",
       "      <td>1</td>\n",
       "      <td>B</td>\n",
       "      <td>18</td>\n",
       "      <td>R</td>\n",
       "    </tr>\n",
       "    <tr>\n",
       "      <th>16</th>\n",
       "      <td>A</td>\n",
       "      <td>F</td>\n",
       "      <td>17</td>\n",
       "      <td>1.82</td>\n",
       "      <td>66.0</td>\n",
       "      <td>1</td>\n",
       "      <td>NAO</td>\n",
       "      <td>P</td>\n",
       "      <td>3</td>\n",
       "      <td>1</td>\n",
       "      <td>B</td>\n",
       "      <td>10</td>\n",
       "      <td>N</td>\n",
       "    </tr>\n",
       "    <tr>\n",
       "      <th>17</th>\n",
       "      <td>A</td>\n",
       "      <td>M</td>\n",
       "      <td>18</td>\n",
       "      <td>1.80</td>\n",
       "      <td>85.2</td>\n",
       "      <td>2</td>\n",
       "      <td>NAO</td>\n",
       "      <td>P</td>\n",
       "      <td>3</td>\n",
       "      <td>4</td>\n",
       "      <td>B</td>\n",
       "      <td>10</td>\n",
       "      <td>R</td>\n",
       "    </tr>\n",
       "    <tr>\n",
       "      <th>18</th>\n",
       "      <td>A</td>\n",
       "      <td>F</td>\n",
       "      <td>20</td>\n",
       "      <td>1.60</td>\n",
       "      <td>54.5</td>\n",
       "      <td>1</td>\n",
       "      <td>NAO</td>\n",
       "      <td>P</td>\n",
       "      <td>3</td>\n",
       "      <td>2</td>\n",
       "      <td>B</td>\n",
       "      <td>5</td>\n",
       "      <td>R</td>\n",
       "    </tr>\n",
       "    <tr>\n",
       "      <th>19</th>\n",
       "      <td>A</td>\n",
       "      <td>F</td>\n",
       "      <td>18</td>\n",
       "      <td>1.68</td>\n",
       "      <td>52.5</td>\n",
       "      <td>3</td>\n",
       "      <td>NAO</td>\n",
       "      <td>M</td>\n",
       "      <td>7</td>\n",
       "      <td>2</td>\n",
       "      <td>B</td>\n",
       "      <td>14</td>\n",
       "      <td>M</td>\n",
       "    </tr>\n",
       "    <tr>\n",
       "      <th>20</th>\n",
       "      <td>A</td>\n",
       "      <td>F</td>\n",
       "      <td>21</td>\n",
       "      <td>1.70</td>\n",
       "      <td>60.0</td>\n",
       "      <td>2</td>\n",
       "      <td>NAO</td>\n",
       "      <td>P</td>\n",
       "      <td>8</td>\n",
       "      <td>2</td>\n",
       "      <td>B</td>\n",
       "      <td>5</td>\n",
       "      <td>R</td>\n",
       "    </tr>\n",
       "    <tr>\n",
       "      <th>21</th>\n",
       "      <td>A</td>\n",
       "      <td>F</td>\n",
       "      <td>18</td>\n",
       "      <td>1.65</td>\n",
       "      <td>58.5</td>\n",
       "      <td>1</td>\n",
       "      <td>NAO</td>\n",
       "      <td>M</td>\n",
       "      <td>0</td>\n",
       "      <td>3</td>\n",
       "      <td>B</td>\n",
       "      <td>5</td>\n",
       "      <td>R</td>\n",
       "    </tr>\n",
       "    <tr>\n",
       "      <th>22</th>\n",
       "      <td>A</td>\n",
       "      <td>F</td>\n",
       "      <td>18</td>\n",
       "      <td>1.57</td>\n",
       "      <td>49.2</td>\n",
       "      <td>1</td>\n",
       "      <td>SIM</td>\n",
       "      <td>I</td>\n",
       "      <td>5</td>\n",
       "      <td>4</td>\n",
       "      <td>B</td>\n",
       "      <td>10</td>\n",
       "      <td>R</td>\n",
       "    </tr>\n",
       "    <tr>\n",
       "      <th>23</th>\n",
       "      <td>A</td>\n",
       "      <td>F</td>\n",
       "      <td>20</td>\n",
       "      <td>1.55</td>\n",
       "      <td>48.0</td>\n",
       "      <td>1</td>\n",
       "      <td>SIM</td>\n",
       "      <td>I</td>\n",
       "      <td>0</td>\n",
       "      <td>1</td>\n",
       "      <td>M</td>\n",
       "      <td>28</td>\n",
       "      <td>R</td>\n",
       "    </tr>\n",
       "    <tr>\n",
       "      <th>24</th>\n",
       "      <td>A</td>\n",
       "      <td>F</td>\n",
       "      <td>20</td>\n",
       "      <td>1.69</td>\n",
       "      <td>51.6</td>\n",
       "      <td>2</td>\n",
       "      <td>NAO</td>\n",
       "      <td>P</td>\n",
       "      <td>8</td>\n",
       "      <td>5</td>\n",
       "      <td>M</td>\n",
       "      <td>4</td>\n",
       "      <td>N</td>\n",
       "    </tr>\n",
       "    <tr>\n",
       "      <th>25</th>\n",
       "      <td>A</td>\n",
       "      <td>F</td>\n",
       "      <td>19</td>\n",
       "      <td>1.54</td>\n",
       "      <td>57.0</td>\n",
       "      <td>2</td>\n",
       "      <td>NAO</td>\n",
       "      <td>I</td>\n",
       "      <td>6</td>\n",
       "      <td>2</td>\n",
       "      <td>B</td>\n",
       "      <td>5</td>\n",
       "      <td>R</td>\n",
       "    </tr>\n",
       "    <tr>\n",
       "      <th>26</th>\n",
       "      <td>B</td>\n",
       "      <td>F</td>\n",
       "      <td>23</td>\n",
       "      <td>1.62</td>\n",
       "      <td>63.0</td>\n",
       "      <td>2</td>\n",
       "      <td>NAO</td>\n",
       "      <td>M</td>\n",
       "      <td>8</td>\n",
       "      <td>2</td>\n",
       "      <td>M</td>\n",
       "      <td>5</td>\n",
       "      <td>R</td>\n",
       "    </tr>\n",
       "    <tr>\n",
       "      <th>27</th>\n",
       "      <td>B</td>\n",
       "      <td>F</td>\n",
       "      <td>18</td>\n",
       "      <td>1.62</td>\n",
       "      <td>52.0</td>\n",
       "      <td>1</td>\n",
       "      <td>NAO</td>\n",
       "      <td>P</td>\n",
       "      <td>1</td>\n",
       "      <td>1</td>\n",
       "      <td>M</td>\n",
       "      <td>10</td>\n",
       "      <td>R</td>\n",
       "    </tr>\n",
       "    <tr>\n",
       "      <th>28</th>\n",
       "      <td>B</td>\n",
       "      <td>F</td>\n",
       "      <td>18</td>\n",
       "      <td>1.57</td>\n",
       "      <td>49.0</td>\n",
       "      <td>2</td>\n",
       "      <td>NAO</td>\n",
       "      <td>P</td>\n",
       "      <td>3</td>\n",
       "      <td>1</td>\n",
       "      <td>B</td>\n",
       "      <td>12</td>\n",
       "      <td>R</td>\n",
       "    </tr>\n",
       "    <tr>\n",
       "      <th>29</th>\n",
       "      <td>B</td>\n",
       "      <td>F</td>\n",
       "      <td>25</td>\n",
       "      <td>1.65</td>\n",
       "      <td>59.0</td>\n",
       "      <td>4</td>\n",
       "      <td>NAO</td>\n",
       "      <td>M</td>\n",
       "      <td>1</td>\n",
       "      <td>2</td>\n",
       "      <td>M</td>\n",
       "      <td>2</td>\n",
       "      <td>R</td>\n",
       "    </tr>\n",
       "    <tr>\n",
       "      <th>30</th>\n",
       "      <td>B</td>\n",
       "      <td>F</td>\n",
       "      <td>18</td>\n",
       "      <td>1.61</td>\n",
       "      <td>52.0</td>\n",
       "      <td>1</td>\n",
       "      <td>NAO</td>\n",
       "      <td>P</td>\n",
       "      <td>2</td>\n",
       "      <td>2</td>\n",
       "      <td>M</td>\n",
       "      <td>6</td>\n",
       "      <td>N</td>\n",
       "    </tr>\n",
       "    <tr>\n",
       "      <th>31</th>\n",
       "      <td>B</td>\n",
       "      <td>M</td>\n",
       "      <td>17</td>\n",
       "      <td>1.71</td>\n",
       "      <td>73.0</td>\n",
       "      <td>1</td>\n",
       "      <td>NAO</td>\n",
       "      <td>P</td>\n",
       "      <td>1</td>\n",
       "      <td>1</td>\n",
       "      <td>B</td>\n",
       "      <td>20</td>\n",
       "      <td>R</td>\n",
       "    </tr>\n",
       "    <tr>\n",
       "      <th>32</th>\n",
       "      <td>B</td>\n",
       "      <td>F</td>\n",
       "      <td>17</td>\n",
       "      <td>1.65</td>\n",
       "      <td>56.0</td>\n",
       "      <td>3</td>\n",
       "      <td>NAO</td>\n",
       "      <td>M</td>\n",
       "      <td>2</td>\n",
       "      <td>1</td>\n",
       "      <td>B</td>\n",
       "      <td>14</td>\n",
       "      <td>R</td>\n",
       "    </tr>\n",
       "    <tr>\n",
       "      <th>33</th>\n",
       "      <td>B</td>\n",
       "      <td>F</td>\n",
       "      <td>17</td>\n",
       "      <td>1.67</td>\n",
       "      <td>58.0</td>\n",
       "      <td>1</td>\n",
       "      <td>NAO</td>\n",
       "      <td>M</td>\n",
       "      <td>4</td>\n",
       "      <td>2</td>\n",
       "      <td>B</td>\n",
       "      <td>10</td>\n",
       "      <td>R</td>\n",
       "    </tr>\n",
       "    <tr>\n",
       "      <th>34</th>\n",
       "      <td>B</td>\n",
       "      <td>M</td>\n",
       "      <td>18</td>\n",
       "      <td>1.73</td>\n",
       "      <td>87.0</td>\n",
       "      <td>1</td>\n",
       "      <td>NAO</td>\n",
       "      <td>M</td>\n",
       "      <td>7</td>\n",
       "      <td>1</td>\n",
       "      <td>B</td>\n",
       "      <td>25</td>\n",
       "      <td>B</td>\n",
       "    </tr>\n",
       "    <tr>\n",
       "      <th>35</th>\n",
       "      <td>B</td>\n",
       "      <td>F</td>\n",
       "      <td>18</td>\n",
       "      <td>1.60</td>\n",
       "      <td>47.0</td>\n",
       "      <td>1</td>\n",
       "      <td>NAO</td>\n",
       "      <td>P</td>\n",
       "      <td>5</td>\n",
       "      <td>1</td>\n",
       "      <td>M</td>\n",
       "      <td>14</td>\n",
       "      <td>R</td>\n",
       "    </tr>\n",
       "    <tr>\n",
       "      <th>36</th>\n",
       "      <td>B</td>\n",
       "      <td>M</td>\n",
       "      <td>17</td>\n",
       "      <td>1.70</td>\n",
       "      <td>95.0</td>\n",
       "      <td>1</td>\n",
       "      <td>NAO</td>\n",
       "      <td>P</td>\n",
       "      <td>10</td>\n",
       "      <td>2</td>\n",
       "      <td>M</td>\n",
       "      <td>12</td>\n",
       "      <td>N</td>\n",
       "    </tr>\n",
       "    <tr>\n",
       "      <th>37</th>\n",
       "      <td>B</td>\n",
       "      <td>M</td>\n",
       "      <td>21</td>\n",
       "      <td>1.85</td>\n",
       "      <td>84.0</td>\n",
       "      <td>1</td>\n",
       "      <td>SIM</td>\n",
       "      <td>I</td>\n",
       "      <td>6</td>\n",
       "      <td>4</td>\n",
       "      <td>B</td>\n",
       "      <td>10</td>\n",
       "      <td>R</td>\n",
       "    </tr>\n",
       "    <tr>\n",
       "      <th>38</th>\n",
       "      <td>B</td>\n",
       "      <td>F</td>\n",
       "      <td>18</td>\n",
       "      <td>1.70</td>\n",
       "      <td>60.0</td>\n",
       "      <td>1</td>\n",
       "      <td>NAO</td>\n",
       "      <td>P</td>\n",
       "      <td>5</td>\n",
       "      <td>2</td>\n",
       "      <td>B</td>\n",
       "      <td>12</td>\n",
       "      <td>R</td>\n",
       "    </tr>\n",
       "    <tr>\n",
       "      <th>39</th>\n",
       "      <td>B</td>\n",
       "      <td>M</td>\n",
       "      <td>18</td>\n",
       "      <td>1.73</td>\n",
       "      <td>73.0</td>\n",
       "      <td>1</td>\n",
       "      <td>NAO</td>\n",
       "      <td>M</td>\n",
       "      <td>4</td>\n",
       "      <td>1</td>\n",
       "      <td>B</td>\n",
       "      <td>2</td>\n",
       "      <td>R</td>\n",
       "    </tr>\n",
       "    <tr>\n",
       "      <th>40</th>\n",
       "      <td>B</td>\n",
       "      <td>F</td>\n",
       "      <td>17</td>\n",
       "      <td>1.70</td>\n",
       "      <td>55.0</td>\n",
       "      <td>1</td>\n",
       "      <td>NAO</td>\n",
       "      <td>I</td>\n",
       "      <td>5</td>\n",
       "      <td>4</td>\n",
       "      <td>B</td>\n",
       "      <td>10</td>\n",
       "      <td>B</td>\n",
       "    </tr>\n",
       "    <tr>\n",
       "      <th>41</th>\n",
       "      <td>B</td>\n",
       "      <td>F</td>\n",
       "      <td>23</td>\n",
       "      <td>1.45</td>\n",
       "      <td>44.0</td>\n",
       "      <td>2</td>\n",
       "      <td>NAO</td>\n",
       "      <td>M</td>\n",
       "      <td>2</td>\n",
       "      <td>2</td>\n",
       "      <td>B</td>\n",
       "      <td>25</td>\n",
       "      <td>R</td>\n",
       "    </tr>\n",
       "    <tr>\n",
       "      <th>42</th>\n",
       "      <td>B</td>\n",
       "      <td>M</td>\n",
       "      <td>24</td>\n",
       "      <td>1.76</td>\n",
       "      <td>75.0</td>\n",
       "      <td>2</td>\n",
       "      <td>NAO</td>\n",
       "      <td>I</td>\n",
       "      <td>7</td>\n",
       "      <td>0</td>\n",
       "      <td>M</td>\n",
       "      <td>14</td>\n",
       "      <td>N</td>\n",
       "    </tr>\n",
       "    <tr>\n",
       "      <th>43</th>\n",
       "      <td>B</td>\n",
       "      <td>F</td>\n",
       "      <td>18</td>\n",
       "      <td>1.68</td>\n",
       "      <td>55.0</td>\n",
       "      <td>1</td>\n",
       "      <td>NAO</td>\n",
       "      <td>P</td>\n",
       "      <td>5</td>\n",
       "      <td>1</td>\n",
       "      <td>B</td>\n",
       "      <td>8</td>\n",
       "      <td>R</td>\n",
       "    </tr>\n",
       "    <tr>\n",
       "      <th>44</th>\n",
       "      <td>B</td>\n",
       "      <td>F</td>\n",
       "      <td>18</td>\n",
       "      <td>1.55</td>\n",
       "      <td>49.0</td>\n",
       "      <td>1</td>\n",
       "      <td>NAO</td>\n",
       "      <td>M</td>\n",
       "      <td>0</td>\n",
       "      <td>1</td>\n",
       "      <td>M</td>\n",
       "      <td>10</td>\n",
       "      <td>R</td>\n",
       "    </tr>\n",
       "    <tr>\n",
       "      <th>45</th>\n",
       "      <td>B</td>\n",
       "      <td>F</td>\n",
       "      <td>19</td>\n",
       "      <td>1.70</td>\n",
       "      <td>50.0</td>\n",
       "      <td>7</td>\n",
       "      <td>NAO</td>\n",
       "      <td>M</td>\n",
       "      <td>0</td>\n",
       "      <td>1</td>\n",
       "      <td>B</td>\n",
       "      <td>8</td>\n",
       "      <td>R</td>\n",
       "    </tr>\n",
       "    <tr>\n",
       "      <th>46</th>\n",
       "      <td>B</td>\n",
       "      <td>F</td>\n",
       "      <td>19</td>\n",
       "      <td>1.55</td>\n",
       "      <td>54.5</td>\n",
       "      <td>2</td>\n",
       "      <td>NAO</td>\n",
       "      <td>M</td>\n",
       "      <td>4</td>\n",
       "      <td>3</td>\n",
       "      <td>B</td>\n",
       "      <td>3</td>\n",
       "      <td>R</td>\n",
       "    </tr>\n",
       "    <tr>\n",
       "      <th>47</th>\n",
       "      <td>B</td>\n",
       "      <td>F</td>\n",
       "      <td>18</td>\n",
       "      <td>1.60</td>\n",
       "      <td>50.0</td>\n",
       "      <td>1</td>\n",
       "      <td>NAO</td>\n",
       "      <td>P</td>\n",
       "      <td>2</td>\n",
       "      <td>1</td>\n",
       "      <td>B</td>\n",
       "      <td>5</td>\n",
       "      <td>R</td>\n",
       "    </tr>\n",
       "    <tr>\n",
       "      <th>48</th>\n",
       "      <td>B</td>\n",
       "      <td>M</td>\n",
       "      <td>17</td>\n",
       "      <td>1.80</td>\n",
       "      <td>71.0</td>\n",
       "      <td>1</td>\n",
       "      <td>NAO</td>\n",
       "      <td>P</td>\n",
       "      <td>7</td>\n",
       "      <td>0</td>\n",
       "      <td>M</td>\n",
       "      <td>14</td>\n",
       "      <td>R</td>\n",
       "    </tr>\n",
       "    <tr>\n",
       "      <th>49</th>\n",
       "      <td>B</td>\n",
       "      <td>M</td>\n",
       "      <td>18</td>\n",
       "      <td>1.83</td>\n",
       "      <td>86.0</td>\n",
       "      <td>1</td>\n",
       "      <td>NAO</td>\n",
       "      <td>P</td>\n",
       "      <td>7</td>\n",
       "      <td>0</td>\n",
       "      <td>M</td>\n",
       "      <td>20</td>\n",
       "      <td>B</td>\n",
       "    </tr>\n",
       "  </tbody>\n",
       "</table>\n",
       "</div>"
      ],
      "text/plain": [
       "   Turma Sexo  Idade   Alt  Peso  Filhos Fuma Toler  Exerc  Cine OpCine  TV  \\\n",
       "0      A    F     17  1.60  60.5       2  NAO     P      0     1      B  16   \n",
       "1      A    F     18  1.69  55.0       1  NAO     M      0     1      B   7   \n",
       "2      A    M     18  1.85  72.8       2  NAO     P      5     2      M  15   \n",
       "3      A    M     25  1.85  80.9       2  NAO     P      5     2      B  20   \n",
       "4      A    F     19  1.58  55.0       1  NAO     M      2     2      B   5   \n",
       "5      A    M     19  1.76  60.0       3  NAO     M      2     1      B   2   \n",
       "6      A    F     20  1.60  58.0       1  NAO     P      3     1      B   7   \n",
       "7      A    F     18  1.64  47.0       1  SIM     I      2     2      M  10   \n",
       "8      A    F     18  1.62  57.8       3  NAO     M      3     3      M  12   \n",
       "9      A    F     17  1.64  58.0       2  NAO     M      2     2      M  10   \n",
       "10     A    F     18  1.72  70.0       1  SIM     I     10     2      B   8   \n",
       "11     A    F     18  1.66  54.0       3  NAO     M      0     2      B   0   \n",
       "12     A    F     21  1.70  58.0       2  NAO     M      6     1      M  30   \n",
       "13     A    M     19  1.78  68.5       1  SIM     I      5     1      M   2   \n",
       "14     A    F     18  1.65  63.5       1  NAO     I      4     1      B  10   \n",
       "15     A    F     19  1.63  47.4       3  NAO     P      0     1      B  18   \n",
       "16     A    F     17  1.82  66.0       1  NAO     P      3     1      B  10   \n",
       "17     A    M     18  1.80  85.2       2  NAO     P      3     4      B  10   \n",
       "18     A    F     20  1.60  54.5       1  NAO     P      3     2      B   5   \n",
       "19     A    F     18  1.68  52.5       3  NAO     M      7     2      B  14   \n",
       "20     A    F     21  1.70  60.0       2  NAO     P      8     2      B   5   \n",
       "21     A    F     18  1.65  58.5       1  NAO     M      0     3      B   5   \n",
       "22     A    F     18  1.57  49.2       1  SIM     I      5     4      B  10   \n",
       "23     A    F     20  1.55  48.0       1  SIM     I      0     1      M  28   \n",
       "24     A    F     20  1.69  51.6       2  NAO     P      8     5      M   4   \n",
       "25     A    F     19  1.54  57.0       2  NAO     I      6     2      B   5   \n",
       "26     B    F     23  1.62  63.0       2  NAO     M      8     2      M   5   \n",
       "27     B    F     18  1.62  52.0       1  NAO     P      1     1      M  10   \n",
       "28     B    F     18  1.57  49.0       2  NAO     P      3     1      B  12   \n",
       "29     B    F     25  1.65  59.0       4  NAO     M      1     2      M   2   \n",
       "30     B    F     18  1.61  52.0       1  NAO     P      2     2      M   6   \n",
       "31     B    M     17  1.71  73.0       1  NAO     P      1     1      B  20   \n",
       "32     B    F     17  1.65  56.0       3  NAO     M      2     1      B  14   \n",
       "33     B    F     17  1.67  58.0       1  NAO     M      4     2      B  10   \n",
       "34     B    M     18  1.73  87.0       1  NAO     M      7     1      B  25   \n",
       "35     B    F     18  1.60  47.0       1  NAO     P      5     1      M  14   \n",
       "36     B    M     17  1.70  95.0       1  NAO     P     10     2      M  12   \n",
       "37     B    M     21  1.85  84.0       1  SIM     I      6     4      B  10   \n",
       "38     B    F     18  1.70  60.0       1  NAO     P      5     2      B  12   \n",
       "39     B    M     18  1.73  73.0       1  NAO     M      4     1      B   2   \n",
       "40     B    F     17  1.70  55.0       1  NAO     I      5     4      B  10   \n",
       "41     B    F     23  1.45  44.0       2  NAO     M      2     2      B  25   \n",
       "42     B    M     24  1.76  75.0       2  NAO     I      7     0      M  14   \n",
       "43     B    F     18  1.68  55.0       1  NAO     P      5     1      B   8   \n",
       "44     B    F     18  1.55  49.0       1  NAO     M      0     1      M  10   \n",
       "45     B    F     19  1.70  50.0       7  NAO     M      0     1      B   8   \n",
       "46     B    F     19  1.55  54.5       2  NAO     M      4     3      B   3   \n",
       "47     B    F     18  1.60  50.0       1  NAO     P      2     1      B   5   \n",
       "48     B    M     17  1.80  71.0       1  NAO     P      7     0      M  14   \n",
       "49     B    M     18  1.83  86.0       1  NAO     P      7     0      M  20   \n",
       "\n",
       "   OpTV  \n",
       "0     R  \n",
       "1     R  \n",
       "2     R  \n",
       "3     R  \n",
       "4     R  \n",
       "5     R  \n",
       "6     R  \n",
       "7     R  \n",
       "8     R  \n",
       "9     R  \n",
       "10    N  \n",
       "11    R  \n",
       "12    R  \n",
       "13    N  \n",
       "14    R  \n",
       "15    R  \n",
       "16    N  \n",
       "17    R  \n",
       "18    R  \n",
       "19    M  \n",
       "20    R  \n",
       "21    R  \n",
       "22    R  \n",
       "23    R  \n",
       "24    N  \n",
       "25    R  \n",
       "26    R  \n",
       "27    R  \n",
       "28    R  \n",
       "29    R  \n",
       "30    N  \n",
       "31    R  \n",
       "32    R  \n",
       "33    R  \n",
       "34    B  \n",
       "35    R  \n",
       "36    N  \n",
       "37    R  \n",
       "38    R  \n",
       "39    R  \n",
       "40    B  \n",
       "41    R  \n",
       "42    N  \n",
       "43    R  \n",
       "44    R  \n",
       "45    R  \n",
       "46    R  \n",
       "47    R  \n",
       "48    R  \n",
       "49    B  "
      ]
     },
     "execution_count": 15,
     "metadata": {},
     "output_type": "execute_result"
    }
   ],
   "source": [
    "df3 = pd.read_excel(\"https://github.com/lucasgomes14/Estatistica/blob/433b3b7debc1c253ec7635c604f1ad4ecd1ae60e/Atividades/Exercicio%2012/dados3.xls\")\n",
    "df3"
   ]
  },
  {
   "cell_type": "markdown",
   "id": "6dc8bfc2",
   "metadata": {},
   "source": [
    "<div class=\"alert alert-block alert-info\">\n",
    "(a) classifique cada variável do conjunto;\n",
    "</div>"
   ]
  },
  {
   "cell_type": "markdown",
   "id": "9bb952af",
   "metadata": {},
   "source": [
    "Turma = Qualitativa nominal"
   ]
  },
  {
   "cell_type": "markdown",
   "id": "9ea509bb",
   "metadata": {},
   "source": [
    "Sexo = Qualitativa nominal"
   ]
  },
  {
   "cell_type": "markdown",
   "id": "2676ab3b",
   "metadata": {},
   "source": [
    "Idade = Quantitativa continua"
   ]
  },
  {
   "cell_type": "markdown",
   "id": "77e68ade",
   "metadata": {},
   "source": [
    "Alt = Quantitativa continua"
   ]
  },
  {
   "cell_type": "markdown",
   "id": "41e5b872",
   "metadata": {},
   "source": [
    "Peso = Quantitativa continua"
   ]
  },
  {
   "cell_type": "markdown",
   "id": "0d3ed885",
   "metadata": {},
   "source": [
    "Filhos = Quantitativa continua"
   ]
  },
  {
   "cell_type": "markdown",
   "id": "39f9ffd3",
   "metadata": {},
   "source": [
    "Fuma = Qualitativa nominal"
   ]
  },
  {
   "cell_type": "markdown",
   "id": "0e23bfef",
   "metadata": {},
   "source": [
    "Toler = Qualitativa ordinal"
   ]
  },
  {
   "cell_type": "markdown",
   "id": "fb539104",
   "metadata": {},
   "source": [
    "Exerc = Quantitativa continua"
   ]
  },
  {
   "cell_type": "markdown",
   "id": "b84b5e06",
   "metadata": {},
   "source": [
    "Cine = Quantitativa continua"
   ]
  },
  {
   "cell_type": "markdown",
   "id": "5c456a5c",
   "metadata": {},
   "source": [
    "OpCine = Qualitativa ordinal"
   ]
  },
  {
   "cell_type": "markdown",
   "id": "97cc9fae",
   "metadata": {},
   "source": [
    "TV = Quantitativa continua"
   ]
  },
  {
   "cell_type": "markdown",
   "id": "2f86cfba",
   "metadata": {},
   "source": [
    "OpTV = Qualitativa ordinal"
   ]
  },
  {
   "cell_type": "markdown",
   "id": "56b720ea",
   "metadata": {},
   "source": [
    "<div class=\"alert alert-block alert-info\">\n",
    "(b) monte uma distribuição de frequência para cada uma das variáveis;\n",
    "</div>"
   ]
  },
  {
   "cell_type": "markdown",
   "id": "3537b87f",
   "metadata": {},
   "source": [
    "<span style=\"color:green\">**Turma**</span>"
   ]
  },
  {
   "cell_type": "code",
   "execution_count": 16,
   "id": "62208154",
   "metadata": {},
   "outputs": [
    {
     "data": {
      "text/plain": [
       "A    52.0\n",
       "B    48.0\n",
       "Name: Turma, dtype: float64"
      ]
     },
     "execution_count": 16,
     "metadata": {},
     "output_type": "execute_result"
    }
   ],
   "source": [
    "df3[\"Turma\"].value_counts(normalize = True)*100"
   ]
  },
  {
   "cell_type": "markdown",
   "id": "98094131",
   "metadata": {},
   "source": [
    "<span style=\"color:green\">**Sexo**</span>"
   ]
  },
  {
   "cell_type": "code",
   "execution_count": 17,
   "id": "87ccd23e",
   "metadata": {},
   "outputs": [
    {
     "data": {
      "text/plain": [
       "F    74.0\n",
       "M    26.0\n",
       "Name: Sexo, dtype: float64"
      ]
     },
     "execution_count": 17,
     "metadata": {},
     "output_type": "execute_result"
    }
   ],
   "source": [
    "df3[\"Sexo\"].value_counts(normalize = True)*100"
   ]
  },
  {
   "cell_type": "markdown",
   "id": "25c6e990",
   "metadata": {},
   "source": [
    "<span style=\"color:green\">**Idade**</span>"
   ]
  },
  {
   "cell_type": "code",
   "execution_count": 18,
   "id": "da02e47f",
   "metadata": {},
   "outputs": [
    {
     "data": {
      "text/plain": [
       "array([17.        , 17.53333333, 18.06666667, 18.6       , 19.13333333,\n",
       "       19.66666667, 20.2       , 20.73333333, 21.26666667, 21.8       ,\n",
       "       22.33333333, 22.86666667, 23.4       , 23.93333333, 24.46666667,\n",
       "       25.        ])"
      ]
     },
     "execution_count": 18,
     "metadata": {},
     "output_type": "execute_result"
    }
   ],
   "source": [
    "fi1, classesi1 = np.histogram(df3[\"Idade\"], bins = \"auto\")\n",
    "classesi1"
   ]
  },
  {
   "cell_type": "markdown",
   "id": "9a708e9f",
   "metadata": {},
   "source": [
    "<span style=\"color:green\">**Alt**</span>"
   ]
  },
  {
   "cell_type": "code",
   "execution_count": 19,
   "id": "b69c9df8",
   "metadata": {},
   "outputs": [
    {
     "data": {
      "text/plain": [
       "array([1.45      , 1.50714286, 1.56428571, 1.62142857, 1.67857143,\n",
       "       1.73571429, 1.79285714, 1.85      ])"
      ]
     },
     "execution_count": 19,
     "metadata": {},
     "output_type": "execute_result"
    }
   ],
   "source": [
    "fi2, classesi2 = np.histogram(df3[\"Alt\"], bins = \"auto\")\n",
    "classesi2"
   ]
  },
  {
   "cell_type": "markdown",
   "id": "e83f10a7",
   "metadata": {},
   "source": [
    "<span style=\"color:green\">**Peso**</span>"
   ]
  },
  {
   "cell_type": "code",
   "execution_count": 20,
   "id": "b3b78435",
   "metadata": {},
   "outputs": [
    {
     "data": {
      "text/plain": [
       "array([44.        , 51.28571429, 58.57142857, 65.85714286, 73.14285714,\n",
       "       80.42857143, 87.71428571, 95.        ])"
      ]
     },
     "execution_count": 20,
     "metadata": {},
     "output_type": "execute_result"
    }
   ],
   "source": [
    "fi3, classesi3 = np.histogram(df3[\"Peso\"], bins = \"auto\")\n",
    "classesi3"
   ]
  },
  {
   "cell_type": "markdown",
   "id": "65c67bd2",
   "metadata": {},
   "source": [
    "<span style=\"color:green\">**Filhos**</span>"
   ]
  },
  {
   "cell_type": "code",
   "execution_count": 21,
   "id": "a47489c5",
   "metadata": {},
   "outputs": [
    {
     "data": {
      "text/plain": [
       "array([1. , 1.5, 2. , 2.5, 3. , 3.5, 4. , 4.5, 5. , 5.5, 6. , 6.5, 7. ])"
      ]
     },
     "execution_count": 21,
     "metadata": {},
     "output_type": "execute_result"
    }
   ],
   "source": [
    "fi4, classesi4 = np.histogram(df3[\"Filhos\"], bins = \"auto\")\n",
    "classesi4"
   ]
  },
  {
   "cell_type": "markdown",
   "id": "8bd54656",
   "metadata": {},
   "source": [
    "<span style=\"color:green\">**Fuma**</span>"
   ]
  },
  {
   "cell_type": "code",
   "execution_count": 22,
   "id": "ef7ee781",
   "metadata": {},
   "outputs": [
    {
     "data": {
      "text/plain": [
       "NAO    88.0\n",
       "SIM    12.0\n",
       "Name: Fuma, dtype: float64"
      ]
     },
     "execution_count": 22,
     "metadata": {},
     "output_type": "execute_result"
    }
   ],
   "source": [
    "df3[\"Fuma\"].value_counts(normalize = True)*100"
   ]
  },
  {
   "cell_type": "markdown",
   "id": "4b36514e",
   "metadata": {},
   "source": [
    "<span style=\"color:green\">**Toler**</span>"
   ]
  },
  {
   "cell_type": "code",
   "execution_count": 23,
   "id": "f9bc27bd",
   "metadata": {},
   "outputs": [
    {
     "data": {
      "text/plain": [
       "P    42.0\n",
       "M    38.0\n",
       "I    20.0\n",
       "Name: Toler, dtype: float64"
      ]
     },
     "execution_count": 23,
     "metadata": {},
     "output_type": "execute_result"
    }
   ],
   "source": [
    "df3[\"Toler\"].value_counts(normalize = True)*100"
   ]
  },
  {
   "cell_type": "markdown",
   "id": "1a012e7d",
   "metadata": {},
   "source": [
    "<span style=\"color:green\">**Exerc**</span>"
   ]
  },
  {
   "cell_type": "code",
   "execution_count": 24,
   "id": "591e3f7e",
   "metadata": {},
   "outputs": [
    {
     "data": {
      "text/plain": [
       "array([ 0.        ,  1.42857143,  2.85714286,  4.28571429,  5.71428571,\n",
       "        7.14285714,  8.57142857, 10.        ])"
      ]
     },
     "execution_count": 24,
     "metadata": {},
     "output_type": "execute_result"
    }
   ],
   "source": [
    "fi5, classesi5 = np.histogram(df3[\"Exerc\"], bins = \"auto\")\n",
    "classesi5"
   ]
  },
  {
   "cell_type": "markdown",
   "id": "f8822367",
   "metadata": {},
   "source": [
    "<span style=\"color:green\">**Cine**</span>"
   ]
  },
  {
   "cell_type": "code",
   "execution_count": 25,
   "id": "19a8e399",
   "metadata": {},
   "outputs": [
    {
     "data": {
      "text/plain": [
       "array([0. , 0.5, 1. , 1.5, 2. , 2.5, 3. , 3.5, 4. , 4.5, 5. ])"
      ]
     },
     "execution_count": 25,
     "metadata": {},
     "output_type": "execute_result"
    }
   ],
   "source": [
    "fi6, classesi6 = np.histogram(df3[\"Cine\"], bins = \"auto\")\n",
    "classesi6"
   ]
  },
  {
   "cell_type": "markdown",
   "id": "f607447e",
   "metadata": {},
   "source": [
    "<span style=\"color:green\">**OpCine**</span>"
   ]
  },
  {
   "cell_type": "code",
   "execution_count": 26,
   "id": "d8dda9fe",
   "metadata": {},
   "outputs": [
    {
     "data": {
      "text/plain": [
       "B    64.0\n",
       "M    36.0\n",
       "Name: OpCine, dtype: float64"
      ]
     },
     "execution_count": 26,
     "metadata": {},
     "output_type": "execute_result"
    }
   ],
   "source": [
    "df3[\"OpCine\"].value_counts(normalize = True)*100"
   ]
  },
  {
   "cell_type": "markdown",
   "id": "998f6fd9",
   "metadata": {},
   "source": [
    "<span style=\"color:green\">**TV**</span>"
   ]
  },
  {
   "cell_type": "code",
   "execution_count": 27,
   "id": "6653ad57",
   "metadata": {},
   "outputs": [
    {
     "data": {
      "text/plain": [
       "array([ 0.        ,  4.28571429,  8.57142857, 12.85714286, 17.14285714,\n",
       "       21.42857143, 25.71428571, 30.        ])"
      ]
     },
     "execution_count": 27,
     "metadata": {},
     "output_type": "execute_result"
    }
   ],
   "source": [
    "fi7, classesi7 = np.histogram(df3[\"TV\"], bins = \"auto\")\n",
    "classesi7"
   ]
  },
  {
   "cell_type": "markdown",
   "id": "8da8f9c0",
   "metadata": {},
   "source": [
    "<span style=\"color:green\">**OpTV**</span>"
   ]
  },
  {
   "cell_type": "code",
   "execution_count": 28,
   "id": "708ee9c1",
   "metadata": {},
   "outputs": [
    {
     "data": {
      "text/plain": [
       "R    78.0\n",
       "N    14.0\n",
       "B     6.0\n",
       "M     2.0\n",
       "Name: OpTV, dtype: float64"
      ]
     },
     "execution_count": 28,
     "metadata": {},
     "output_type": "execute_result"
    }
   ],
   "source": [
    "df3[\"OpTV\"].value_counts(normalize = True)*100"
   ]
  },
  {
   "cell_type": "markdown",
   "id": "8498fdb6",
   "metadata": {},
   "source": [
    "<div class=\"alert alert-block alert-info\">\n",
    "(c) crie um gráfico representando cada uam das variáveis disponíveis.\n",
    "</div>"
   ]
  },
  {
   "cell_type": "markdown",
   "id": "c6cbad19",
   "metadata": {},
   "source": [
    "<span style=\"color:green\">**Turma**</span>"
   ]
  },
  {
   "cell_type": "code",
   "execution_count": 29,
   "id": "a5c5e98e",
   "metadata": {},
   "outputs": [
    {
     "data": {
      "image/png": "[encoded data removed]",
      "text/plain": [
       "<Figure size 432x288 with 1 Axes>"
      ]
     },
     "metadata": {
      "needs_background": "light"
     },
     "output_type": "display_data"
    }
   ],
   "source": [
    "df3[\"Turma\"].value_counts(ascending = True).plot.bar(title = \"Turma\")\n",
    "plt.grid()"
   ]
  },
  {
   "cell_type": "markdown",
   "id": "5f33eab3",
   "metadata": {},
   "source": [
    "<span style=\"color:green\">**Sexo**</span>"
   ]
  },
  {
   "cell_type": "code",
   "execution_count": 30,
   "id": "f156c1c4",
   "metadata": {},
   "outputs": [
    {
     "data": {
      "image/png": "[encoded data removed]",
      "text/plain": [
       "<Figure size 432x288 with 1 Axes>"
      ]
     },
     "metadata": {
      "needs_background": "light"
     },
     "output_type": "display_data"
    }
   ],
   "source": [
    "df3[\"Sexo\"].value_counts(ascending = True).plot.bar(title = \"Sexo\")\n",
    "plt.grid()"
   ]
  },
  {
   "cell_type": "markdown",
   "id": "af718513",
   "metadata": {},
   "source": [
    "<span style=\"color:green\">**Idade**</span>"
   ]
  },
  {
   "cell_type": "code",
   "execution_count": 31,
   "id": "da53a0f5",
   "metadata": {},
   "outputs": [
    {
     "data": {
      "image/png": "[encoded data removed]",
      "text/plain": [
       "<Figure size 432x288 with 1 Axes>"
      ]
     },
     "metadata": {
      "needs_background": "light"
     },
     "output_type": "display_data"
    }
   ],
   "source": [
    "f3, classes3, x = plt.hist(df3[\"Idade\"],bins = \"auto\")\n",
    "plt.xticks(classes3)\n",
    "plt.yticks(f3)\n",
    "plt.grid()"
   ]
  },
  {
   "cell_type": "markdown",
   "id": "19d708c9",
   "metadata": {},
   "source": [
    "<span style=\"color:green\">**Alt**</span>"
   ]
  },
  {
   "cell_type": "code",
   "execution_count": 32,
   "id": "bbe5fedf",
   "metadata": {},
   "outputs": [
    {
     "data": {
      "image/png": "[encoded data removed]",
      "text/plain": [
       "<Figure size 432x288 with 1 Axes>"
      ]
     },
     "metadata": {
      "needs_background": "light"
     },
     "output_type": "display_data"
    }
   ],
   "source": [
    "f4, classes4, x = plt.hist(df3[\"Alt\"],bins = \"auto\")\n",
    "plt.xticks(classes4)\n",
    "plt.yticks(f4)\n",
    "plt.grid()"
   ]
  },
  {
   "cell_type": "markdown",
   "id": "6cf253a9",
   "metadata": {},
   "source": [
    "<span style=\"color:green\">**Peso**</span>"
   ]
  },
  {
   "cell_type": "code",
   "execution_count": 33,
   "id": "4340f6bd",
   "metadata": {},
   "outputs": [
    {
     "data": {
      "image/png": "[encoded data removed]",
      "text/plain": [
       "<Figure size 432x288 with 1 Axes>"
      ]
     },
     "metadata": {
      "needs_background": "light"
     },
     "output_type": "display_data"
    }
   ],
   "source": [
    "f5, classes5, x = plt.hist(df3[\"Peso\"],bins = \"auto\")\n",
    "plt.xticks(classes5)\n",
    "plt.yticks(f5)\n",
    "plt.grid()"
   ]
  },
  {
   "cell_type": "markdown",
   "id": "76b0b004",
   "metadata": {},
   "source": [
    "<span style=\"color:green\">**Filhos**</span>"
   ]
  },
  {
   "cell_type": "code",
   "execution_count": 34,
   "id": "9a50a27e",
   "metadata": {},
   "outputs": [
    {
     "data": {
      "image/png": "[encoded data removed]",
      "text/plain": [
       "<Figure size 432x288 with 1 Axes>"
      ]
     },
     "metadata": {
      "needs_background": "light"
     },
     "output_type": "display_data"
    }
   ],
   "source": [
    "f6, classes6, x = plt.hist(df3[\"Filhos\"],bins = \"auto\")\n",
    "plt.xticks(classes6)\n",
    "plt.yticks(f6)\n",
    "plt.grid()"
   ]
  },
  {
   "cell_type": "markdown",
   "id": "fe47b770",
   "metadata": {},
   "source": [
    "<span style=\"color:green\">**Fuma**</span>"
   ]
  },
  {
   "cell_type": "code",
   "execution_count": 35,
   "id": "b1154540",
   "metadata": {},
   "outputs": [
    {
     "data": {
      "image/png": "[encoded data removed]",
      "text/plain": [
       "<Figure size 432x288 with 1 Axes>"
      ]
     },
     "metadata": {
      "needs_background": "light"
     },
     "output_type": "display_data"
    }
   ],
   "source": [
    "df3[\"Fuma\"].value_counts(ascending = True).plot.bar(title = \"Fuma\")\n",
    "plt.grid()"
   ]
  },
  {
   "cell_type": "markdown",
   "id": "eb895922",
   "metadata": {},
   "source": [
    "<span style=\"color:green\">**Toler**</span>"
   ]
  },
  {
   "cell_type": "code",
   "execution_count": 36,
   "id": "38f56834",
   "metadata": {},
   "outputs": [
    {
     "data": {
      "image/png": "[encoded data removed]",
      "text/plain": [
       "<Figure size 432x288 with 1 Axes>"
      ]
     },
     "metadata": {
      "needs_background": "light"
     },
     "output_type": "display_data"
    }
   ],
   "source": [
    "df3[\"Toler\"].value_counts(ascending = True).plot.bar(title = \"Toler\")\n",
    "plt.grid()"
   ]
  },
  {
   "cell_type": "markdown",
   "id": "d248a483",
   "metadata": {},
   "source": [
    "<span style=\"color:green\">**Exerc**</span>"
   ]
  },
  {
   "cell_type": "code",
   "execution_count": 37,
   "id": "05da1231",
   "metadata": {},
   "outputs": [
    {
     "data": {
      "image/png": "[encoded data removed]",
      "text/plain": [
       "<Figure size 432x288 with 1 Axes>"
      ]
     },
     "metadata": {
      "needs_background": "light"
     },
     "output_type": "display_data"
    }
   ],
   "source": [
    "f7, classes7, x = plt.hist(df3[\"Exerc\"],bins = \"auto\")\n",
    "plt.xticks(classes7)\n",
    "plt.yticks(f7)\n",
    "plt.grid()"
   ]
  },
  {
   "cell_type": "markdown",
   "id": "402a3cb1",
   "metadata": {},
   "source": [
    "<span style=\"color:green\">**Cine**</span>"
   ]
  },
  {
   "cell_type": "code",
   "execution_count": 38,
   "id": "bff48e94",
   "metadata": {},
   "outputs": [
    {
     "data": {
      "image/png": "[encoded data removed]",
      "text/plain": [
       "<Figure size 432x288 with 1 Axes>"
      ]
     },
     "metadata": {
      "needs_background": "light"
     },
     "output_type": "display_data"
    }
   ],
   "source": [
    "f8, classes8, x = plt.hist(df3[\"Cine\"],bins = \"auto\")\n",
    "plt.xticks(classes8)\n",
    "plt.yticks(f8)\n",
    "plt.grid()"
   ]
  },
  {
   "cell_type": "markdown",
   "id": "b7258b6b",
   "metadata": {},
   "source": [
    "<span style=\"color:green\">**Opcine**</span>"
   ]
  },
  {
   "cell_type": "code",
   "execution_count": 39,
   "id": "02b7fc8c",
   "metadata": {},
   "outputs": [
    {
     "data": {
      "image/png": "[encoded data removed]",
      "text/plain": [
       "<Figure size 432x288 with 1 Axes>"
      ]
     },
     "metadata": {
      "needs_background": "light"
     },
     "output_type": "display_data"
    }
   ],
   "source": [
    "df3[\"OpCine\"].value_counts(ascending = True).plot.bar(title = \"OpCine\")\n",
    "plt.grid()"
   ]
  },
  {
   "cell_type": "markdown",
   "id": "29effbb8",
   "metadata": {},
   "source": [
    "<span style=\"color:green\">**TV**</span>"
   ]
  },
  {
   "cell_type": "code",
   "execution_count": 40,
   "id": "693a76c6",
   "metadata": {},
   "outputs": [
    {
     "data": {
      "image/png": "[encoded data removed]",
      "text/plain": [
       "<Figure size 432x288 with 1 Axes>"
      ]
     },
     "metadata": {
      "needs_background": "light"
     },
     "output_type": "display_data"
    }
   ],
   "source": [
    "f9, classes9, x = plt.hist(df3[\"TV\"],bins = \"auto\")\n",
    "plt.xticks(classes9)\n",
    "plt.yticks(f9)\n",
    "plt.grid()"
   ]
  },
  {
   "cell_type": "markdown",
   "id": "00574405",
   "metadata": {},
   "source": [
    "<span style=\"color:green\">**OpTV**</span>"
   ]
  },
  {
   "cell_type": "code",
   "execution_count": 41,
   "id": "1e380ce1",
   "metadata": {},
   "outputs": [
    {
     "data": {
      "image/png": "[encoded data removed]",
      "text/plain": [
       "<Figure size 432x288 with 1 Axes>"
      ]
     },
     "metadata": {
      "needs_background": "light"
     },
     "output_type": "display_data"
    }
   ],
   "source": [
    "df3[\"OpTV\"].value_counts(ascending = True).plot.bar(title = \"OpTV\")\n",
    "plt.grid()"
   ]
  }
 ],
 "metadata": {
  "kernelspec": {
   "display_name": "Python 3 (ipykernel)",
   "language": "python",
   "name": "python3"
  },
  "language_info": {
   "codemirror_mode": {
    "name": "ipython",
    "version": 3
   },
   "file_extension": ".py",
   "mimetype": "text/x-python",
   "name": "python",
   "nbconvert_exporter": "python",
   "pygments_lexer": "ipython3",
   "version": "3.9.7"
  }
 },
 "nbformat": 4,
 "nbformat_minor": 5
}
